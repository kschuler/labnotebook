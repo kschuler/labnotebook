{
 "metadata": {
  "name": ""
 },
 "nbformat": 3,
 "nbformat_minor": 0,
 "worksheets": [
  {
   "cells": [
    {
     "cell_type": "markdown",
     "metadata": {},
     "source": [
      "# 0010 SRT Pilot Results\n",
      "\n",
      "This is the data analysis of experiment 0010 SRT pilot.  This analysis includes every step from the original raw-data files to the final results output for this experiment (including figures).\n",
      "\n",
      "### Import required packages and setup\n",
      "Before we begin our analysis, we import some required packages and specify our deisred figure settings."
     ]
    },
    {
     "cell_type": "code",
     "collapsed": false,
     "input": [
      "#import packages (required for analysis)\n",
      "%pylab inline\n",
      "import numpy as np\n",
      "import pandas as pd\n",
      "from scipy import stats, optimize\n",
      "import matplotlib.pyplot as plt\n",
      "import seaborn as sns\n",
      "import os, csv\n",
      "import statsmodels.api as sm\n"
     ],
     "language": "python",
     "metadata": {},
     "outputs": [
      {
       "output_type": "stream",
       "stream": "stdout",
       "text": [
        "Populating the interactive namespace from numpy and matplotlib\n"
       ]
      }
     ],
     "prompt_number": 2
    },
    {
     "cell_type": "code",
     "collapsed": false,
     "input": [
      "#figure settings\n",
      "sns.set(style=\"whitegrid\", palette=\"deep\")\n",
      "#sns.set_context(rc={\"figure.figsize\": (8, 4)})"
     ],
     "language": "python",
     "metadata": {},
     "outputs": [],
     "prompt_number": 3
    },
    {
     "cell_type": "markdown",
     "metadata": {},
     "source": [
      "\n",
      "Next, we set some useful parameters to tell pandas where our data and required files are located."
     ]
    },
    {
     "cell_type": "code",
     "collapsed": false,
     "input": [
      "#params (change these for every experiment)\n",
      "exp_id = '0010'\n",
      "exp_title = 'SRT-pilot'\n",
      "\n",
      "#paths to files we need\n",
      "path_raw = '/Users/kschuler/Documents/perma/raw-data/'+exp_id+'-'+exp_title+'-data'\n",
      "path_track = '/Users/kschuler/Documents/perma/subject-tracking/'+exp_id+'-'+exp_title+'-track.csv'\n",
      "\n",
      "#list the data files we have\n",
      "file_list = os.listdir(path_raw)\n"
     ],
     "language": "python",
     "metadata": {},
     "outputs": [],
     "prompt_number": 4
    },
    {
     "cell_type": "markdown",
     "metadata": {},
     "source": [
      "## Data pre-processing\n",
      "\n",
      "### Rationale for pre-processing\n",
      "Because this was the first experiment that I ran, some helpful fields are missing from the automatic data output.  It is necessary to preprocess the data to come up with some of the fields required by the analysis used in [Howard and Howard, 1997](http://psycnet.apa.org/journals/pag/12/4/634/), which is the analysis that we want to replicate.\n",
      "\n",
      "\n",
      "### Add header and load all data\n",
      "As a first step, we add a header row (which was not included in the original data output).  \n",
      "\n",
      "Then, we can read all of the raw data files into pandas, creating one long ```all_data``` data frame.  We also merge this data frame with our ```subj_track``` data frame, so all of our data is accessable in one place.\n"
     ]
    },
    {
     "cell_type": "code",
     "collapsed": false,
     "input": [
      "#add a header to data files\n",
      "header = ['gender', 'experimenter', 'name', 'circle_num', 'circle_name', 'circle_key', 'attempt_no', 'cum_time', 'key_pressed', 'RT', 'isCorrect']\n",
      "\n",
      "#read into pandas (names=header)\n",
      "raw_data = [pd.read_csv(path_raw+'/'+file, header=None,names=header) for file in file_list]\n",
      "\n",
      "#concatenate all raw data files together\n",
      "all_data = pd.concat(raw_data)\n",
      "\n",
      "#read subject tracking into pandas \n",
      "subj_track = pd.read_csv(path_track)\n",
      "\n",
      "#merge add_data and subj_track\n",
      "new_data = pd.merge(subj_track, all_data, on='name', how='inner')"
     ],
     "language": "python",
     "metadata": {},
     "outputs": [],
     "prompt_number": 5
    },
    {
     "cell_type": "markdown",
     "metadata": {},
     "source": [
      "This leaves us with a bunch of columns that aren't really relevant for the data analysis we are interested in (but we preserve in our raw data in case we ever need them).  Let's remove these columns to simplify our data frame."
     ]
    },
    {
     "cell_type": "code",
     "collapsed": false,
     "input": [
      "#include only relevant columns, and leave out subjects marked for exclusion.\n",
      "new_data = new_data[['sid', 'circle_key', 'key_pressed', 'RT', 'KDS-exclude', 'attempt_no', 'isCorrect']]\n",
      "final_data = new_data[new_data['KDS-exclude'] == False]\n",
      "\n"
     ],
     "language": "python",
     "metadata": {},
     "outputs": [],
     "prompt_number": 6
    },
    {
     "cell_type": "markdown",
     "metadata": {},
     "source": [
      "### Add some required variables\n",
      "\n",
      "Next we need to ID trials as either a pattern trial or a random trial.  To simplify things, we can first remove data from our ```all-data``` data frame where ```attempt-no``` is equal to 2.  This is because it means that our subject chose the wrong button on the first attempt, which winds up being excluded data, so we don't need to know their reaction times on their second attempt.\n",
      "\n",
      "We do, however, want to know whether subjects were correct or not on the first trial.  This information is already saved as a boolean value in the ```isCorrect``` column.  Therefore, we are free to remove any trials where ```attempt-no``` is equal to 2."
     ]
    },
    {
     "cell_type": "code",
     "collapsed": false,
     "input": [
      "# get a data frame of first attempts only\n",
      "first_attempts = final_data[final_data.attempt_no == 1] "
     ],
     "language": "python",
     "metadata": {},
     "outputs": [],
     "prompt_number": 7
    },
    {
     "cell_type": "markdown",
     "metadata": {},
     "source": [
      "After this, we need to add a trial number for every subject."
     ]
    },
    {
     "cell_type": "code",
     "collapsed": false,
     "input": [
      "def add_trial_num(df):\n",
      "    '''adds a trial number'''\n",
      "    df['trial'] = np.arange(len(df['attempt_no'])) + 1\n",
      "    return df\n",
      "\n",
      "trial_data = first_attempts.groupby('sid').apply(add_trial_num)"
     ],
     "language": "python",
     "metadata": {},
     "outputs": [],
     "prompt_number": 8
    },
    {
     "cell_type": "markdown",
     "metadata": {},
     "source": [
      "And a new block for every 100 trials."
     ]
    },
    {
     "cell_type": "code",
     "collapsed": false,
     "input": [
      "def add_block_num(df):\n",
      "    blocks = []\n",
      "    for block in arange(1, 17):\n",
      "        blocks.extend(repeat(block, 100))\n",
      "    df['block'] = blocks\n",
      "    return df\n",
      "\n",
      "trial_data = trial_data.groupby('sid').apply(add_block_num)"
     ],
     "language": "python",
     "metadata": {},
     "outputs": [],
     "prompt_number": 9
    },
    {
     "cell_type": "markdown",
     "metadata": {},
     "source": [
      "Then we need to add whether this was a pattern or random trial"
     ]
    },
    {
     "cell_type": "code",
     "collapsed": false,
     "input": [
      "#add column for type (even trials are always random)\n",
      "trial_data['type'] = trial_data['trial'].apply(lambda x: 'random' if x%2==0 else 'pattern')"
     ],
     "language": "python",
     "metadata": {},
     "outputs": [],
     "prompt_number": 10
    },
    {
     "cell_type": "markdown",
     "metadata": {},
     "source": [
      "and add the precise pattern this particular subject had"
     ]
    },
    {
     "cell_type": "code",
     "collapsed": false,
     "input": [
      "#add column for specific pattern\n",
      "trial_data['pattern'] = trial_data.sid.map(trial_data.groupby('sid')['circle_key'].apply(lambda x: list(x[:7:2])))"
     ],
     "language": "python",
     "metadata": {},
     "outputs": [],
     "prompt_number": 11
    },
    {
     "cell_type": "markdown",
     "metadata": {},
     "source": [
      "After this, we will list the possible values for the triplets (e.g. triplet 1x4, or 2x3, where x is any random number.  Because we don't care what the value of x is, we will only attend to the first and last element of the triplet."
     ]
    },
    {
     "cell_type": "code",
     "collapsed": false,
     "input": [
      "#list possible triplet combinations\n",
      "def getCombos(pattern):\n",
      "    pattern = pattern + [pattern[0]]\n",
      "    return ''.join(pattern)\n",
      "\n",
      "trial_data['combos'] = trial_data.pattern.map(getCombos)\n"
     ],
     "language": "python",
     "metadata": {},
     "outputs": [],
     "prompt_number": 12
    },
    {
     "cell_type": "code",
     "collapsed": false,
     "input": [
      "#get this trial and 2 trials ago\n",
      "trial_data['shifted'] = pd.concat([trial_data.groupby('sid')['key_pressed'].shift(2) + trial_data.groupby('sid')['key_pressed'].shift(0)])\n"
     ],
     "language": "python",
     "metadata": {},
     "outputs": [],
     "prompt_number": 13
    },
    {
     "cell_type": "markdown",
     "metadata": {},
     "source": [
      "Find out if this is a high-frequency of low-freqnecy triplet (part of pattern or no)"
     ]
    },
    {
     "cell_type": "code",
     "collapsed": false,
     "input": [
      "#trial_data['combos'].str.contains(str(trial_data['shifted'].values))\n",
      "def func(df):\n",
      "    return str(df.shifted) in df.combos\n",
      "\n",
      "trial_data['high-freq'] = trial_data.apply(func, axis=1)"
     ],
     "language": "python",
     "metadata": {},
     "outputs": [],
     "prompt_number": 14
    },
    {
     "cell_type": "markdown",
     "metadata": {},
     "source": [
      "## Check distribution of reaction times (histogram)\n",
      "\n",
      "Now that we have processed our data to include all of the relevant variables we need (and exclude ones we don't).  Let's look at the distributions of reaction times as a histogram."
     ]
    },
    {
     "cell_type": "code",
     "collapsed": false,
     "input": [
      "#plot two histograms superimposed (pattern and random RTs)\n",
      "block1 = trial_data[trial_data['block'] == 1]\n",
      "block16 = trial_data[trial_data ['block'] == 16]\n",
      "histo = block1[block1['isCorrect']==1]['RT'].hist(bins = 50, color=\"#6495ED\", alpha=.5)\n",
      "histo = block16[block16['isCorrect']==1]['RT'].hist(bins = 50, color=\"#aaaaaa\", alpha=.5)\n",
      "\n",
      "histo.set(xlim = (0, 1))\n"
     ],
     "language": "python",
     "metadata": {},
     "outputs": [
      {
       "metadata": {},
       "output_type": "pyout",
       "prompt_number": 48,
       "text": [
        "[(0, 1)]"
       ]
      },
      {
       "metadata": {},
       "output_type": "display_data",
       "png": "[encoded data removed]",
       "text": [
        "<matplotlib.figure.Figure at 0xc6f6490>"
       ]
      }
     ],
     "prompt_number": 48
    },
    {
     "cell_type": "markdown",
     "metadata": {},
     "source": [
      "What we see here are three plots - the blue plot shows us the distribution of reaction times during block 1 (the first block), and the dark gray plot shows us the distribution of reaction times during block 16 (the last block).  I like to look at these distributions first just to see if the results I'm getting make sense.  If subjects are learning the pattern over time, we expect them to have faster reaction times over time.  These two distributions illustrate just that.  It looks as if we have two distinct distributions for early and late reaction times.\n",
      "\n"
     ]
    },
    {
     "cell_type": "markdown",
     "metadata": {},
     "source": [
      "Let's go ahead and make a few other useful plots, now that we know how things are looking grossly.\n",
      "\n",
      "### Proportion correct\n",
      "\n",
      "First we want to look at the proportion correct.  How is subject accuracy changing over time?"
     ]
    },
    {
     "cell_type": "code",
     "collapsed": false,
     "input": [
      "#percent correct\n",
      "pct_corr = trial_data.groupby(['sid','block'], as_index=False)['isCorrect'].mean()\n",
      "pct_corr_plot = sns.pointplot(\"block\", \"isCorrect\", data = pct_corr, estimator=np.mean)\n"
     ],
     "language": "python",
     "metadata": {},
     "outputs": [
      {
       "metadata": {},
       "output_type": "display_data",
       "png": "[encoded data removed]",
       "text": [
        "<matplotlib.figure.Figure at 0xb91e3b0>"
       ]
      }
     ],
     "prompt_number": 16
    },
    {
     "cell_type": "markdown",
     "metadata": {},
     "source": [
      "It appears that our proporion correct is getting worse over time, but the variance is increasing dramatically.  This means that subjects are differing a lot in how accurate they are being over time.\n",
      "\n",
      "Next we want to exclude all of the trials the subjects got incorrect, so that we aren't including those reaction times in our analysis."
     ]
    },
    {
     "cell_type": "code",
     "collapsed": false,
     "input": [
      "#take only correct trials\n",
      "correct_only = trial_data[trial_data['isCorrect']==1]\n"
     ],
     "language": "python",
     "metadata": {},
     "outputs": []
    },
    {
     "cell_type": "markdown",
     "metadata": {},
     "source": [
      "Then we want to get the median RT for each subject."
     ]
    },
    {
     "cell_type": "code",
     "collapsed": false,
     "input": [
      "#get median reaction time for each subject and each block\n",
      "median_agg = correct_only.groupby(['sid','block'], as_index=False)['RT'].median()\n"
     ],
     "language": "python",
     "metadata": {},
     "outputs": [],
     "prompt_number": 83
    },
    {
     "cell_type": "markdown",
     "metadata": {},
     "source": [
      "### Mean of Median Reaction Time\n",
      "\n",
      "Next, we can plot the mean of median reaction time using a plotting function.  I use the seaborn package because I think it makes the most attractive plots.  It basically uses matplotlib and adds some additional pretty things.  \n",
      "\n",
      "No matter which you use, we want to plot the calcualted mean at each block and show errors bars at a particular confidence interval.\n",
      "\n",
      "This first plot uses sns.pointplot, which generages a basic point plot.  I've set the \"estimator\" to plot the mean value, and set the confidence interval at 95%\n"
     ]
    },
    {
     "cell_type": "code",
     "collapsed": false,
     "input": [
      "#median_agg.groupby(['block']).agg([mean, std])\n",
      "sns.pointplot('block', 'RT', data=median_agg, estimator=np.mean, ci=95)"
     ],
     "language": "python",
     "metadata": {},
     "outputs": [
      {
       "metadata": {},
       "output_type": "pyout",
       "prompt_number": 91,
       "text": [
        "<matplotlib.axes.AxesSubplot at 0x148f3cd0>"
       ]
      },
      {
       "metadata": {},
       "output_type": "display_data",
       "png": "[encoded data removed]",
       "text": [
        "<matplotlib.figure.Figure at 0x1481ad30>"
       ]
      }
     ],
     "prompt_number": 91
    },
    {
     "cell_type": "markdown",
     "metadata": {},
     "source": [
      "We can check that these plots makes sense by printing out a table of the mean of median RTs.\n"
     ]
    },
    {
     "cell_type": "code",
     "collapsed": false,
     "input": [
      "#table of mean of median values\n",
      "print median_agg.groupby(['block'], as_index=False)['RT'].agg([np.mean, np.std])"
     ],
     "language": "python",
     "metadata": {},
     "outputs": [
      {
       "output_type": "stream",
       "stream": "stdout",
       "text": [
        "             RT          \n",
        "           mean       std\n",
        "block                    \n",
        "1      0.378839  0.053584\n",
        "2      0.292001  0.058444\n",
        "3      0.265042  0.077809\n",
        "4      0.236290  0.094598\n",
        "5      0.226473  0.093704\n",
        "6      0.209302  0.098037\n",
        "7      0.200380  0.097989\n",
        "8      0.188056  0.090666\n",
        "9      0.170021  0.089632\n",
        "10     0.170913  0.097995\n",
        "11     0.148575  0.091942\n",
        "12     0.146637  0.084769\n",
        "13     0.142549  0.083801\n",
        "14     0.136257  0.087298\n",
        "15     0.125727  0.076984\n",
        "16     0.122655  0.081689\n",
        "\n",
        "[16 rows x 2 columns]\n"
       ]
      }
     ],
     "prompt_number": 89
    },
    {
     "cell_type": "markdown",
     "metadata": {},
     "source": [
      "I do most of my data analysis in python (pandas) because python is the language I am most comfortable in.  However, to be consistent with the rest of the lab, I run my repeated-measures ANOVA analysis in SPSS (also known as General Linear Model).  SPSS likes for you to have one column per \"level\" and one row per subject.\n",
      "\n",
      "So we can transpose our data into this shape, and output a csv file for SPSS to use.  I like this method because we are always working preceisely from the original raw data."
     ]
    },
    {
     "cell_type": "code",
     "collapsed": false,
     "input": [
      "#transpose data for SPSS\n",
      "forSPSS = median_agg.pivot('sid', 'block', 'RT')\n",
      "\n",
      "#export to csv for use by SPSS\n",
      "forSPSS.to_csv('/Users/kschuler/Downloads/'+exp_id+'-'+exp_title+'-forSPSS.csv')"
     ],
     "language": "python",
     "metadata": {},
     "outputs": [],
     "prompt_number": 82
    },
    {
     "cell_type": "markdown",
     "metadata": {},
     "source": [
      "## SPSS Repeated-Measures ANOVA results\n",
      "\n",
      "Once we give this information to SPSS, we can run our GLM.  The precise SPSS output is available [here](SPSS.html).  To summarize:\n",
      "\n",
      ">There was a statistically significant effect of block (our \"time\" metric) on reaction time, F(15, 285) = 34.723, p < 0.000.\n",
      "\n",
      "This suggests that subjects are learning over time.  However - I need to revisit this section. I'm not 100% sure about the application of the repeated-measures ANOVA, and whether certain assumptions are violated and need to be corrected.  Almost certainly the assumptions about a normal distribution are violated, and we should be correcting for that.  Also the error term (285, here) is very large, likely because one of my factors has 16 levels (for every block).\n",
      "\n",
      "We also may want to reduce the number of time points we are sampling from.  Darlene and Jim use \"sessions\", so they effectively get one value for all 16 blocks, then do it again.  Here, subjects are learning in the first block (because we are using an SRT 100% predictable pattern with no randomness at all).  \n",
      "\n",
      "In later studies, we will have randomness to measure against patterned trials, so it will probably take subjects much, much longer to learn."
     ]
    }
   ],
   "metadata": {}
  }
 ]
}