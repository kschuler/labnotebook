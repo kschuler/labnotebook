{
 "metadata": {
  "name": ""
 },
 "nbformat": 3,
 "nbformat_minor": 0,
 "worksheets": [
  {
   "cells": [
    {
     "cell_type": "markdown",
     "metadata": {},
     "source": [
      "# 0012 aSRT Keyboard 40\n",
      "\n",
      "This is the data analysis of experiment 0011 aSRT keyboard. This analysis includes every step from the original raw-data files to the final results output for this experiment (including figures).  Katie runs all of her data analysis in the ipython notebook, with some additional analysis run in SPSS.\n",
      "\n",
      "### Import required packages and setup\n",
      "\n",
      "Before we begin our analysis, we import some required packages and specify our deisred figure settings."
     ]
    },
    {
     "cell_type": "code",
     "collapsed": false,
     "input": [
      "#import packages (required for analysis)\n",
      "%pylab inline\n",
      "import numpy as np\n",
      "import pandas as pd\n",
      "from scipy import stats, optimize\n",
      "import matplotlib.pyplot as plt\n",
      "import seaborn as sns\n",
      "import os, csv\n",
      "import statsmodels.api as sm"
     ],
     "language": "python",
     "metadata": {},
     "outputs": [
      {
       "output_type": "stream",
       "stream": "stdout",
       "text": [
        "Populating the interactive namespace from numpy and matplotlib\n"
       ]
      }
     ],
     "prompt_number": 1
    },
    {
     "cell_type": "code",
     "collapsed": false,
     "input": [
      "#figure settings\n",
      "sns.set(style=\"whitegrid\", palette=\"deep\")\n",
      "#sns.set_context(rc={\"figure.figsize\": (8, 4)})"
     ],
     "language": "python",
     "metadata": {},
     "outputs": [],
     "prompt_number": 2
    },
    {
     "cell_type": "markdown",
     "metadata": {},
     "source": [
      "Next, we set some useful parameters to tell pandas where our data and required files are located."
     ]
    },
    {
     "cell_type": "code",
     "collapsed": false,
     "input": [
      "#params (change these for every experiment)\n",
      "exp_id = '0012'\n",
      "exp_title = 'aSRT-keyboard-40'\n",
      "\n",
      "#paths to files we need\n",
      "path_raw = '/Users/kschuler/Documents/perma/raw-data/'+exp_id+'-'+exp_title+'-data'\n",
      "path_track = '/Users/kschuler/Documents/perma/subject-tracking/'+exp_id+'-'+exp_title+'-track.csv'\n",
      "\n",
      "#list the data files we have\n",
      "file_list = os.listdir(path_raw)"
     ],
     "language": "python",
     "metadata": {},
     "outputs": [],
     "prompt_number": 3
    },
    {
     "cell_type": "markdown",
     "metadata": {},
     "source": [
      "## Data pre-processing\n",
      "\n",
      "### Rationale for pre-processing\n",
      "\n",
      "Because this was the first experiment that I ran, some helpful fields are missing from the automatic data output. It is necessary to preprocess the data to come up with some of the fields required by the analysis used in Howard and Howard, 1997, which is the analysis that we want to replicate.\n",
      "\n",
      "### Add header and load all data\n",
      "\n",
      "As a first step, we add a header row (which was not included in the original data output).\n",
      "\n",
      "Then, we can read all of the raw data files into pandas, creating one long all_data data frame. We also merge this data frame with our subj_track data frame, so all of our data is accessable in one place."
     ]
    },
    {
     "cell_type": "code",
     "collapsed": false,
     "input": [
      "#add a header to data files\n",
      "header = ['date','gender', 'experimenter', 'name', 'circle_num', 'circle_name', 'circle_key', 'attempt_no', 'cum_time', 'key_pressed', 'RT', 'isCorrect']\n",
      "\n",
      "#read into pandas (names=header)\n",
      "raw_data = [pd.read_csv(path_raw+'/'+file, header=None,names=header) for file in file_list]\n",
      "\n",
      "#concatenate all raw data files together\n",
      "all_data = pd.concat(raw_data)\n",
      "\n",
      "#read subject tracking into pandas \n",
      "subj_track = pd.read_csv(path_track)\n",
      "\n",
      "#merge add_data and subj_track\n",
      "new_data = pd.merge(subj_track, all_data, on='name', how=\"inner\")\n",
      "print new_data.head()\n"
     ],
     "language": "python",
     "metadata": {},
     "outputs": [
      {
       "output_type": "stream",
       "stream": "stdout",
       "text": [
        "    version              experiment  cond-1  cond-2  language  test age-group  \\\n",
        "0  v-0012.0   0012-aSRT-keyboard-40     NaN     NaN       NaN   NaN     adult   \n",
        "1  v-0012.0   0012-aSRT-keyboard-40     NaN     NaN       NaN   NaN     adult   \n",
        "2  v-0012.0   0012-aSRT-keyboard-40     NaN     NaN       NaN   NaN     adult   \n",
        "3  v-0012.0   0012-aSRT-keyboard-40     NaN     NaN       NaN   NaN     adult   \n",
        "4  v-0012.0   0012-aSRT-keyboard-40     NaN     NaN       NaN   NaN     adult   \n",
        "\n",
        "   sid  name gender_x   date_x  dob experimenter_x       location  \\\n",
        "0  S01  Ryan        M  4/24/13  NaN            JFS  GU-newportlab   \n",
        "1  S01  Ryan        M  4/24/13  NaN            JFS  GU-newportlab   \n",
        "2  S01  Ryan        M  4/24/13  NaN            JFS  GU-newportlab   \n",
        "3  S01  Ryan        M  4/24/13  NaN            JFS  GU-newportlab   \n",
        "4  S01  Ryan        M  4/24/13  NaN            JFS  GU-newportlab   \n",
        "\n",
        "   data-uploaded  recommend-exclude  KDS-exclude  notes      date_y gender_y  \\\n",
        "0            NaN                  0            0    NaN  04/24/2013        M   \n",
        "1            NaN                  0            0    NaN  04/24/2013        M   \n",
        "2            NaN                  0            0    NaN  04/24/2013        M   \n",
        "3            NaN                  0            0    NaN  04/24/2013        M   \n",
        "4            NaN                  0            0    NaN  04/24/2013        M   \n",
        "\n",
        "       \n",
        "0 ...  \n",
        "1 ...  \n",
        "2 ...  \n",
        "3 ...  \n",
        "4 ...  \n",
        "\n",
        "[5 rows x 29 columns]\n"
       ]
      }
     ],
     "prompt_number": 15
    },
    {
     "cell_type": "markdown",
     "metadata": {},
     "source": [
      "This leaves us with a bunch of columns that aren't really relevant for the data analysis we are interested in (but we preserve in our raw data in case we ever need them). Let's remove these columns to simplify our data frame."
     ]
    },
    {
     "cell_type": "code",
     "collapsed": false,
     "input": [
      "#include only relevant columns, and leave out subjects marked for exclusion.\n",
      "new_data = new_data[['sid', 'circle_key', 'key_pressed', 'RT', 'KDS-exclude', 'attempt_no', 'isCorrect']]\n",
      "final_data = new_data[new_data['KDS-exclude'] == False]"
     ],
     "language": "python",
     "metadata": {},
     "outputs": [],
     "prompt_number": 16
    },
    {
     "cell_type": "markdown",
     "metadata": {},
     "source": [
      "### Add some required variables\n",
      "\n",
      "Next we need to ID trials as either a pattern trial or a random trial. To simplify things, we can first remove data from our all-data data frame where attempt-no is equal to 2. This is because it means that our subject chose the wrong button on the first attempt, which winds up being excluded data, so we don't need to know their reaction times on their second attempt.\n",
      "\n",
      "We do, however, want to know whether subjects were correct or not on the first trial. This information is already saved as a boolean value in the isCorrect column. Therefore, we are free to remove any trials where attempt-no is equal to 2."
     ]
    },
    {
     "cell_type": "code",
     "collapsed": false,
     "input": [
      "# get a data frame of first attempts only\n",
      "first_attempts = final_data[final_data.attempt_no == 1]"
     ],
     "language": "python",
     "metadata": {},
     "outputs": [],
     "prompt_number": 17
    },
    {
     "cell_type": "markdown",
     "metadata": {},
     "source": [
      "After this, we need to add a trial number for every subject.\n"
     ]
    },
    {
     "cell_type": "code",
     "collapsed": false,
     "input": [
      "def add_trial_num(df):\n",
      "    '''adds a trial number'''\n",
      "    df['trial'] = np.arange(len(df['attempt_no'])) + 1\n",
      "    return df\n",
      "\n",
      "trial_data = first_attempts.groupby('sid').apply(add_trial_num)\n",
      "trial_data.groupby('sid').count()"
     ],
     "language": "python",
     "metadata": {},
     "outputs": [
      {
       "html": [
        "<div style=\"max-height:1000px;max-width:1500px;overflow:auto;\">\n",
        "<table border=\"1\" class=\"dataframe\">\n",
        "  <thead>\n",
        "    <tr style=\"text-align: right;\">\n",
        "      <th></th>\n",
        "      <th>sid</th>\n",
        "      <th>circle_key</th>\n",
        "      <th>key_pressed</th>\n",
        "      <th>RT</th>\n",
        "      <th>KDS-exclude</th>\n",
        "      <th>attempt_no</th>\n",
        "      <th>isCorrect</th>\n",
        "      <th>trial</th>\n",
        "    </tr>\n",
        "    <tr>\n",
        "      <th>sid</th>\n",
        "      <th></th>\n",
        "      <th></th>\n",
        "      <th></th>\n",
        "      <th></th>\n",
        "      <th></th>\n",
        "      <th></th>\n",
        "      <th></th>\n",
        "      <th></th>\n",
        "    </tr>\n",
        "  </thead>\n",
        "  <tbody>\n",
        "    <tr>\n",
        "      <th>S01</th>\n",
        "      <td> 3200</td>\n",
        "      <td> 3200</td>\n",
        "      <td> 3200</td>\n",
        "      <td> 3200</td>\n",
        "      <td> 3200</td>\n",
        "      <td> 3200</td>\n",
        "      <td> 3200</td>\n",
        "      <td> 3200</td>\n",
        "    </tr>\n",
        "    <tr>\n",
        "      <th>S02</th>\n",
        "      <td> 3200</td>\n",
        "      <td> 3200</td>\n",
        "      <td> 3200</td>\n",
        "      <td> 3200</td>\n",
        "      <td> 3200</td>\n",
        "      <td> 3200</td>\n",
        "      <td> 3200</td>\n",
        "      <td> 3200</td>\n",
        "    </tr>\n",
        "    <tr>\n",
        "      <th>S03</th>\n",
        "      <td> 3200</td>\n",
        "      <td> 3200</td>\n",
        "      <td> 3200</td>\n",
        "      <td> 3200</td>\n",
        "      <td> 3200</td>\n",
        "      <td> 3200</td>\n",
        "      <td> 3200</td>\n",
        "      <td> 3200</td>\n",
        "    </tr>\n",
        "    <tr>\n",
        "      <th>S04</th>\n",
        "      <td> 3200</td>\n",
        "      <td> 3200</td>\n",
        "      <td> 3200</td>\n",
        "      <td> 3200</td>\n",
        "      <td> 3200</td>\n",
        "      <td> 3200</td>\n",
        "      <td> 3200</td>\n",
        "      <td> 3200</td>\n",
        "    </tr>\n",
        "    <tr>\n",
        "      <th>S05</th>\n",
        "      <td> 3200</td>\n",
        "      <td> 3200</td>\n",
        "      <td> 3200</td>\n",
        "      <td> 3200</td>\n",
        "      <td> 3200</td>\n",
        "      <td> 3200</td>\n",
        "      <td> 3200</td>\n",
        "      <td> 3200</td>\n",
        "    </tr>\n",
        "    <tr>\n",
        "      <th>S06</th>\n",
        "      <td> 3200</td>\n",
        "      <td> 3200</td>\n",
        "      <td> 3200</td>\n",
        "      <td> 3200</td>\n",
        "      <td> 3200</td>\n",
        "      <td> 3200</td>\n",
        "      <td> 3200</td>\n",
        "      <td> 3200</td>\n",
        "    </tr>\n",
        "  </tbody>\n",
        "</table>\n",
        "<p>6 rows \u00d7 8 columns</p>\n",
        "</div>"
       ],
       "metadata": {},
       "output_type": "pyout",
       "prompt_number": 18,
       "text": [
        "      sid  circle_key  key_pressed    RT  KDS-exclude  attempt_no  isCorrect  \\\n",
        "sid                                                                            \n",
        "S01  3200        3200         3200  3200         3200        3200       3200   \n",
        "S02  3200        3200         3200  3200         3200        3200       3200   \n",
        "S03  3200        3200         3200  3200         3200        3200       3200   \n",
        "S04  3200        3200         3200  3200         3200        3200       3200   \n",
        "S05  3200        3200         3200  3200         3200        3200       3200   \n",
        "S06  3200        3200         3200  3200         3200        3200       3200   \n",
        "\n",
        "     trial  \n",
        "sid         \n",
        "S01   3200  \n",
        "S02   3200  \n",
        "S03   3200  \n",
        "S04   3200  \n",
        "S05   3200  \n",
        "S06   3200  \n",
        "\n",
        "[6 rows x 8 columns]"
       ]
      }
     ],
     "prompt_number": 18
    },
    {
     "cell_type": "markdown",
     "metadata": {},
     "source": [
      "And a new block for every 100 trials.\n"
     ]
    },
    {
     "cell_type": "code",
     "collapsed": false,
     "input": [
      "def add_block_num(df):\n",
      "    blocks = []\n",
      "    for block in arange(1, 41):\n",
      "        blocks.extend(repeat(block, 80))\n",
      "    df['block'] = blocks\n",
      "    return df\n",
      "\n",
      "trial_data = trial_data.groupby('sid').apply(add_block_num)"
     ],
     "language": "python",
     "metadata": {},
     "outputs": [],
     "prompt_number": 19
    },
    {
     "cell_type": "code",
     "collapsed": false,
     "input": [],
     "language": "python",
     "metadata": {},
     "outputs": []
    },
    {
     "cell_type": "code",
     "collapsed": false,
     "input": [
      "def add_group_block_num(df):\n",
      "    gblocks = []\n",
      "    for gblock in arange(1, 5):\n",
      "        gblocks.extend(repeat(gblock, 800))\n",
      "    df['gblocks'] = gblocks\n",
      "    return df\n",
      "\n",
      "trial_data = trial_data.groupby('sid').apply(add_group_block_num)"
     ],
     "language": "python",
     "metadata": {},
     "outputs": [],
     "prompt_number": 29
    },
    {
     "cell_type": "markdown",
     "metadata": {},
     "source": [
      "Then we need to add whether this was a pattern or random trial\n"
     ]
    },
    {
     "cell_type": "code",
     "collapsed": false,
     "input": [
      "#add column for type (even trials are always random)\n",
      "trial_data['type'] = trial_data['trial'].apply(lambda x: 'random' if x%2==0 else 'pattern')"
     ],
     "language": "python",
     "metadata": {},
     "outputs": [],
     "prompt_number": 30
    },
    {
     "cell_type": "markdown",
     "metadata": {},
     "source": [
      "and add the precise pattern this particular subject had\n"
     ]
    },
    {
     "cell_type": "code",
     "collapsed": false,
     "input": [
      "#add column for specific pattern\n",
      "trial_data['pattern'] = trial_data.sid.map(trial_data.groupby('sid')['circle_key'].apply(lambda x: list(x[:7:2])))"
     ],
     "language": "python",
     "metadata": {},
     "outputs": [],
     "prompt_number": 31
    },
    {
     "cell_type": "markdown",
     "metadata": {},
     "source": [
      "After this, we will list the possible values for the triplets (e.g. triplet 1x4, or 2x3, where x is any random number. Because we don't care what the value of x is, we will only attend to the first and last element of the triplet."
     ]
    },
    {
     "cell_type": "code",
     "collapsed": false,
     "input": [
      "#list possible triplet combinations\n",
      "def getCombos(pattern):\n",
      "    pattern = pattern + [pattern[0]]\n",
      "    return ''.join(pattern)\n",
      "\n",
      "trial_data['combos'] = trial_data.pattern.map(getCombos)"
     ],
     "language": "python",
     "metadata": {},
     "outputs": [],
     "prompt_number": 32
    },
    {
     "cell_type": "code",
     "collapsed": false,
     "input": [
      "#get this trial and 2 trials ago\n",
      "trial_data['shifted'] = pd.concat([trial_data.groupby('sid')['key_pressed'].shift(2) + trial_data.groupby('sid')['key_pressed'].shift(0)])"
     ],
     "language": "python",
     "metadata": {},
     "outputs": [],
     "prompt_number": 33
    },
    {
     "cell_type": "markdown",
     "metadata": {},
     "source": [
      "Find out if this is a high-frequency of low-freqnecy triplet (part of pattern or no)\n"
     ]
    },
    {
     "cell_type": "code",
     "collapsed": false,
     "input": [
      "#trial_data['combos'].str.contains(str(trial_data['shifted'].values))\n",
      "def func(df):\n",
      "    return str(df.shifted) in df.combos\n",
      "\n",
      "trial_data['high-freq'] = trial_data.apply(func, axis=1)"
     ],
     "language": "python",
     "metadata": {},
     "outputs": [],
     "prompt_number": 34
    },
    {
     "cell_type": "markdown",
     "metadata": {},
     "source": [
      "## Figure 1: Histogram of RT (overall)\n",
      "\n",
      "Now that we have processed our data to include all of the relevant variables we need (and exclude ones we don't). Let's look at the distributions of reaction times as a histogram."
     ]
    },
    {
     "cell_type": "code",
     "collapsed": false,
     "input": [
      "#plot two histograms superimposed (pattern and random RTs)\n",
      "block1 = trial_data[trial_data['block'] == 1]\n",
      "block10 = trial_data[trial_data ['block'] == 10]\n",
      "histo = block1[block1['isCorrect']==1]['RT'].hist(bins = 50, color=\"#6495ED\", alpha=.5)\n",
      "histo = block10[block10['isCorrect']==1]['RT'].hist(bins = 50, color=\"#aaaaaa\", alpha=.5)\n",
      "\n",
      "histo.set(xlim = (0, 1))"
     ],
     "language": "python",
     "metadata": {},
     "outputs": [
      {
       "metadata": {},
       "output_type": "pyout",
       "prompt_number": 35,
       "text": [
        "[(0, 1)]"
       ]
      },
      {
       "metadata": {},
       "output_type": "display_data",
       "png": "[encoded data removed]",
       "text": [
        "<matplotlib.figure.Figure at 0xb9b8270>"
       ]
      }
     ],
     "prompt_number": 35
    },
    {
     "cell_type": "markdown",
     "metadata": {},
     "source": [
      "Here what we see are two plots - the blue plot shows us the distribution of reaction times during block 1 (the first block), and the dark gray plot shows us the distribution of reaction times during block 7 (the last block). I like to look at these distributions first just to see if the results I'm getting make sense. If subjects are learning the pattern over time, we expect them to have faster reaction times over time. These two distributions illustrate the opposite of that. In fact, our two distributions look almost identical over time.\n",
      "\n",
      "In this case, we could be observing difference imposed by our different conditions (pattern and random).  Let's look at proportion correct and mean of median reaction time changes over time for our two conditions seperately.\n",
      "\n",
      "## Figure 2: Accuracy (proportion correct)\n"
     ]
    },
    {
     "cell_type": "code",
     "collapsed": false,
     "input": [
      "#percent correct\n",
      "pct_corr = trial_data.groupby(['sid','gblocks', 'type'], as_index=False)['isCorrect'].mean()\n",
      "pct_corr_plot = sns.pointplot(\"gblocks\", \"isCorrect\", \"type\", data = pct_corr, estimator=np.mean)\n"
     ],
     "language": "python",
     "metadata": {},
     "outputs": [
      {
       "ename": "TypeError",
       "evalue": "set_title() got an unexpected keyword argument 'prop'",
       "output_type": "pyerr",
       "traceback": [
        "\u001b[0;31m---------------------------------------------------------------------------\u001b[0m\n\u001b[0;31mTypeError\u001b[0m                                 Traceback (most recent call last)",
        "\u001b[0;32m<ipython-input-37-62361ede8367>\u001b[0m in \u001b[0;36m<module>\u001b[0;34m()\u001b[0m\n\u001b[1;32m      1\u001b[0m \u001b[0;31m#percent correct\u001b[0m\u001b[0;34m\u001b[0m\u001b[0;34m\u001b[0m\u001b[0m\n\u001b[1;32m      2\u001b[0m \u001b[0mpct_corr\u001b[0m \u001b[0;34m=\u001b[0m \u001b[0mtrial_data\u001b[0m\u001b[0;34m.\u001b[0m\u001b[0mgroupby\u001b[0m\u001b[0;34m(\u001b[0m\u001b[0;34m[\u001b[0m\u001b[0;34m'sid'\u001b[0m\u001b[0;34m,\u001b[0m\u001b[0;34m'gblocks'\u001b[0m\u001b[0;34m,\u001b[0m \u001b[0;34m'type'\u001b[0m\u001b[0;34m]\u001b[0m\u001b[0;34m,\u001b[0m \u001b[0mas_index\u001b[0m\u001b[0;34m=\u001b[0m\u001b[0mFalse\u001b[0m\u001b[0;34m)\u001b[0m\u001b[0;34m[\u001b[0m\u001b[0;34m'isCorrect'\u001b[0m\u001b[0;34m]\u001b[0m\u001b[0;34m.\u001b[0m\u001b[0mmean\u001b[0m\u001b[0;34m(\u001b[0m\u001b[0;34m)\u001b[0m\u001b[0;34m\u001b[0m\u001b[0m\n\u001b[0;32m----> 3\u001b[0;31m \u001b[0mpct_corr_plot\u001b[0m \u001b[0;34m=\u001b[0m \u001b[0msns\u001b[0m\u001b[0;34m.\u001b[0m\u001b[0mpointplot\u001b[0m\u001b[0;34m(\u001b[0m\u001b[0;34m\"gblocks\"\u001b[0m\u001b[0;34m,\u001b[0m \u001b[0;34m\"isCorrect\"\u001b[0m\u001b[0;34m,\u001b[0m \u001b[0;34m\"type\"\u001b[0m\u001b[0;34m,\u001b[0m \u001b[0mdata\u001b[0m \u001b[0;34m=\u001b[0m \u001b[0mpct_corr\u001b[0m\u001b[0;34m,\u001b[0m \u001b[0mestimator\u001b[0m\u001b[0;34m=\u001b[0m\u001b[0mnp\u001b[0m\u001b[0;34m.\u001b[0m\u001b[0mmean\u001b[0m\u001b[0;34m)\u001b[0m\u001b[0;34m\u001b[0m\u001b[0m\n\u001b[0m",
        "\u001b[0;32m/Library/Frameworks/Python.framework/Versions/7.2/lib/python2.7/site-packages/seaborn-0.3.dev-py2.7.egg/seaborn/linearmodels.pyc\u001b[0m in \u001b[0;36mpointplot\u001b[0;34m(x, y, hue, data, estimator, hline, ci, n_boot, units, x_order, hue_order, dodge, dropna, color, palette, join, label, ax)\u001b[0m\n\u001b[1;32m    960\u001b[0m     \u001b[0;32mif\u001b[0m \u001b[0max\u001b[0m \u001b[0;32mis\u001b[0m \u001b[0mNone\u001b[0m\u001b[0;34m:\u001b[0m\u001b[0;34m\u001b[0m\u001b[0m\n\u001b[1;32m    961\u001b[0m         \u001b[0max\u001b[0m \u001b[0;34m=\u001b[0m \u001b[0mplt\u001b[0m\u001b[0;34m.\u001b[0m\u001b[0mgca\u001b[0m\u001b[0;34m(\u001b[0m\u001b[0;34m)\u001b[0m\u001b[0;34m\u001b[0m\u001b[0m\n\u001b[0;32m--> 962\u001b[0;31m     \u001b[0mplotter\u001b[0m\u001b[0;34m.\u001b[0m\u001b[0mplot\u001b[0m\u001b[0;34m(\u001b[0m\u001b[0max\u001b[0m\u001b[0;34m)\u001b[0m\u001b[0;34m\u001b[0m\u001b[0m\n\u001b[0m\u001b[1;32m    963\u001b[0m     \u001b[0;32mreturn\u001b[0m \u001b[0max\u001b[0m\u001b[0;34m\u001b[0m\u001b[0m\n\u001b[1;32m    964\u001b[0m \u001b[0;34m\u001b[0m\u001b[0m\n",
        "\u001b[0;32m/Library/Frameworks/Python.framework/Versions/7.2/lib/python2.7/site-packages/seaborn-0.3.dev-py2.7.egg/seaborn/linearmodels.pyc\u001b[0m in \u001b[0;36mplot\u001b[0;34m(self, ax)\u001b[0m\n\u001b[1;32m    257\u001b[0m             \u001b[0;32mif\u001b[0m \u001b[0mhasattr\u001b[0m\u001b[0;34m(\u001b[0m\u001b[0mself\u001b[0m\u001b[0;34m.\u001b[0m\u001b[0mhue\u001b[0m\u001b[0;34m,\u001b[0m \u001b[0;34m\"name\"\u001b[0m\u001b[0;34m)\u001b[0m\u001b[0;34m:\u001b[0m\u001b[0;34m\u001b[0m\u001b[0m\n\u001b[1;32m    258\u001b[0m                 leg.set_title(self.hue.name,\n\u001b[0;32m--> 259\u001b[0;31m                               prop={\"size\": mpl.rcParams[\"axes.labelsize\"]})\n\u001b[0m\u001b[1;32m    260\u001b[0m         \u001b[0max\u001b[0m\u001b[0;34m.\u001b[0m\u001b[0mxaxis\u001b[0m\u001b[0;34m.\u001b[0m\u001b[0mgrid\u001b[0m\u001b[0;34m(\u001b[0m\u001b[0mFalse\u001b[0m\u001b[0;34m)\u001b[0m\u001b[0;34m\u001b[0m\u001b[0m\n\u001b[1;32m    261\u001b[0m         \u001b[0max\u001b[0m\u001b[0;34m.\u001b[0m\u001b[0mset_xticks\u001b[0m\u001b[0;34m(\u001b[0m\u001b[0mself\u001b[0m\u001b[0;34m.\u001b[0m\u001b[0mpositions\u001b[0m\u001b[0;34m)\u001b[0m\u001b[0;34m\u001b[0m\u001b[0m\n",
        "\u001b[0;31mTypeError\u001b[0m: set_title() got an unexpected keyword argument 'prop'"
       ]
      },
      {
       "metadata": {},
       "output_type": "display_data",
       "png": "[encoded data removed]",
       "text": [
        "<matplotlib.figure.Figure at 0xaeca710>"
       ]
      }
     ],
     "prompt_number": 37
    },
    {
     "cell_type": "markdown",
     "metadata": {},
     "source": [
      "It seems like the proportion correct are really similar for both.\n",
      "\n",
      "## Figure 3: Mean of median RT"
     ]
    },
    {
     "cell_type": "code",
     "collapsed": false,
     "input": [
      "#take only correct trials\n",
      "correct_only = trial_data[trial_data['isCorrect']==1]\n",
      "\n",
      "#get median reaction time for each subject and each block\n",
      "median_agg = correct_only.groupby(['sid','gblocks', 'type'], as_index=False)['RT'].median()\n",
      "\n",
      "#median_agg.groupby(['block']).agg([mean, std])\n",
      "sns.pointplot('gblocks', 'RT', 'type', data=median_agg, estimator=np.mean, ci=95)\n",
      "\n"
     ],
     "language": "python",
     "metadata": {},
     "outputs": [
      {
       "ename": "TypeError",
       "evalue": "set_title() got an unexpected keyword argument 'prop'",
       "output_type": "pyerr",
       "traceback": [
        "\u001b[0;31m---------------------------------------------------------------------------\u001b[0m\n\u001b[0;31mTypeError\u001b[0m                                 Traceback (most recent call last)",
        "\u001b[0;32m<ipython-input-38-00781524facc>\u001b[0m in \u001b[0;36m<module>\u001b[0;34m()\u001b[0m\n\u001b[1;32m      6\u001b[0m \u001b[0;34m\u001b[0m\u001b[0m\n\u001b[1;32m      7\u001b[0m \u001b[0;31m#median_agg.groupby(['block']).agg([mean, std])\u001b[0m\u001b[0;34m\u001b[0m\u001b[0;34m\u001b[0m\u001b[0m\n\u001b[0;32m----> 8\u001b[0;31m \u001b[0msns\u001b[0m\u001b[0;34m.\u001b[0m\u001b[0mpointplot\u001b[0m\u001b[0;34m(\u001b[0m\u001b[0;34m'gblocks'\u001b[0m\u001b[0;34m,\u001b[0m \u001b[0;34m'RT'\u001b[0m\u001b[0;34m,\u001b[0m \u001b[0;34m'type'\u001b[0m\u001b[0;34m,\u001b[0m \u001b[0mdata\u001b[0m\u001b[0;34m=\u001b[0m\u001b[0mmedian_agg\u001b[0m\u001b[0;34m,\u001b[0m \u001b[0mestimator\u001b[0m\u001b[0;34m=\u001b[0m\u001b[0mnp\u001b[0m\u001b[0;34m.\u001b[0m\u001b[0mmean\u001b[0m\u001b[0;34m,\u001b[0m \u001b[0mci\u001b[0m\u001b[0;34m=\u001b[0m\u001b[0;36m95\u001b[0m\u001b[0;34m)\u001b[0m\u001b[0;34m\u001b[0m\u001b[0m\n\u001b[0m\u001b[1;32m      9\u001b[0m \u001b[0;34m\u001b[0m\u001b[0m\n",
        "\u001b[0;32m/Library/Frameworks/Python.framework/Versions/7.2/lib/python2.7/site-packages/seaborn-0.3.dev-py2.7.egg/seaborn/linearmodels.pyc\u001b[0m in \u001b[0;36mpointplot\u001b[0;34m(x, y, hue, data, estimator, hline, ci, n_boot, units, x_order, hue_order, dodge, dropna, color, palette, join, label, ax)\u001b[0m\n\u001b[1;32m    960\u001b[0m     \u001b[0;32mif\u001b[0m \u001b[0max\u001b[0m \u001b[0;32mis\u001b[0m \u001b[0mNone\u001b[0m\u001b[0;34m:\u001b[0m\u001b[0;34m\u001b[0m\u001b[0m\n\u001b[1;32m    961\u001b[0m         \u001b[0max\u001b[0m \u001b[0;34m=\u001b[0m \u001b[0mplt\u001b[0m\u001b[0;34m.\u001b[0m\u001b[0mgca\u001b[0m\u001b[0;34m(\u001b[0m\u001b[0;34m)\u001b[0m\u001b[0;34m\u001b[0m\u001b[0m\n\u001b[0;32m--> 962\u001b[0;31m     \u001b[0mplotter\u001b[0m\u001b[0;34m.\u001b[0m\u001b[0mplot\u001b[0m\u001b[0;34m(\u001b[0m\u001b[0max\u001b[0m\u001b[0;34m)\u001b[0m\u001b[0;34m\u001b[0m\u001b[0m\n\u001b[0m\u001b[1;32m    963\u001b[0m     \u001b[0;32mreturn\u001b[0m \u001b[0max\u001b[0m\u001b[0;34m\u001b[0m\u001b[0m\n\u001b[1;32m    964\u001b[0m \u001b[0;34m\u001b[0m\u001b[0m\n",
        "\u001b[0;32m/Library/Frameworks/Python.framework/Versions/7.2/lib/python2.7/site-packages/seaborn-0.3.dev-py2.7.egg/seaborn/linearmodels.pyc\u001b[0m in \u001b[0;36mplot\u001b[0;34m(self, ax)\u001b[0m\n\u001b[1;32m    257\u001b[0m             \u001b[0;32mif\u001b[0m \u001b[0mhasattr\u001b[0m\u001b[0;34m(\u001b[0m\u001b[0mself\u001b[0m\u001b[0;34m.\u001b[0m\u001b[0mhue\u001b[0m\u001b[0;34m,\u001b[0m \u001b[0;34m\"name\"\u001b[0m\u001b[0;34m)\u001b[0m\u001b[0;34m:\u001b[0m\u001b[0;34m\u001b[0m\u001b[0m\n\u001b[1;32m    258\u001b[0m                 leg.set_title(self.hue.name,\n\u001b[0;32m--> 259\u001b[0;31m                               prop={\"size\": mpl.rcParams[\"axes.labelsize\"]})\n\u001b[0m\u001b[1;32m    260\u001b[0m         \u001b[0max\u001b[0m\u001b[0;34m.\u001b[0m\u001b[0mxaxis\u001b[0m\u001b[0;34m.\u001b[0m\u001b[0mgrid\u001b[0m\u001b[0;34m(\u001b[0m\u001b[0mFalse\u001b[0m\u001b[0;34m)\u001b[0m\u001b[0;34m\u001b[0m\u001b[0m\n\u001b[1;32m    261\u001b[0m         \u001b[0max\u001b[0m\u001b[0;34m.\u001b[0m\u001b[0mset_xticks\u001b[0m\u001b[0;34m(\u001b[0m\u001b[0mself\u001b[0m\u001b[0;34m.\u001b[0m\u001b[0mpositions\u001b[0m\u001b[0;34m)\u001b[0m\u001b[0;34m\u001b[0m\u001b[0m\n",
        "\u001b[0;31mTypeError\u001b[0m: set_title() got an unexpected keyword argument 'prop'"
       ]
      },
      {
       "metadata": {},
       "output_type": "display_data",
       "png": "[encoded data removed]",
       "text": [
        "<matplotlib.figure.Figure at 0xaecf930>"
       ]
      }
     ],
     "prompt_number": 38
    },
    {
     "cell_type": "markdown",
     "metadata": {},
     "source": [
      "And, obviously people aren't learning it very well."
     ]
    }
   ],
   "metadata": {}
  }
 ]
}