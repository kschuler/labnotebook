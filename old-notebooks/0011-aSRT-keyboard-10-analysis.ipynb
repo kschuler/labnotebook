{
 "metadata": {
  "name": ""
 },
 "nbformat": 3,
 "nbformat_minor": 0,
 "worksheets": [
  {
   "cells": [
    {
     "cell_type": "markdown",
     "metadata": {},
     "source": [
      "# 0011 aSRT Keyboard 10\n",
      "\n",
      "This is the data analysis of experiment 0011 aSRT keyboard. This analysis includes every step from the original raw-data files to the final results output for this experiment (including figures).  Katie runs all of her data analysis in the ipython notebook, with some additional analysis run in SPSS.\n",
      "\n",
      "### Import required packages and setup\n",
      "\n",
      "Before we begin our analysis, we import some required packages and specify our deisred figure settings."
     ]
    },
    {
     "cell_type": "code",
     "collapsed": false,
     "input": [
      "#import packages (required for analysis)\n",
      "%pylab inline\n",
      "import numpy as np\n",
      "import pandas as pd\n",
      "from scipy import stats, optimize\n",
      "import matplotlib.pyplot as plt\n",
      "import seaborn as sns\n",
      "import os, csv\n",
      "import statsmodels.api as sm"
     ],
     "language": "python",
     "metadata": {},
     "outputs": [
      {
       "output_type": "stream",
       "stream": "stdout",
       "text": [
        "Populating the interactive namespace from numpy and matplotlib\n"
       ]
      }
     ],
     "prompt_number": 1
    },
    {
     "cell_type": "code",
     "collapsed": false,
     "input": [
      "#figure settings\n",
      "sns.set(style=\"whitegrid\", palette=\"deep\")\n",
      "#sns.set_context(rc={\"figure.figsize\": (8, 4)})"
     ],
     "language": "python",
     "metadata": {},
     "outputs": [],
     "prompt_number": 2
    },
    {
     "cell_type": "markdown",
     "metadata": {},
     "source": [
      "Next, we set some useful parameters to tell pandas where our data and required files are located."
     ]
    },
    {
     "cell_type": "code",
     "collapsed": false,
     "input": [
      "#params (change these for every experiment)\n",
      "exp_id = '0011'\n",
      "exp_title = 'aSRT-keyboard-10'\n",
      "\n",
      "#paths to files we need\n",
      "path_raw = '/Users/kschuler/Documents/perma/raw-data/'+exp_id+'-'+exp_title+'-data'\n",
      "path_track = '/Users/kschuler/Documents/perma/subject-tracking/'+exp_id+'-'+exp_title+'-track.csv'\n",
      "\n",
      "#list the data files we have\n",
      "file_list = os.listdir(path_raw)"
     ],
     "language": "python",
     "metadata": {},
     "outputs": [],
     "prompt_number": 4
    },
    {
     "cell_type": "markdown",
     "metadata": {},
     "source": [
      "## Data pre-processing\n",
      "\n",
      "### Rationale for pre-processing\n",
      "\n",
      "Because this was the first experiment that I ran, some helpful fields are missing from the automatic data output. It is necessary to preprocess the data to come up with some of the fields required by the analysis used in Howard and Howard, 1997, which is the analysis that we want to replicate.\n",
      "\n",
      "### Add header and load all data\n",
      "\n",
      "As a first step, we add a header row (which was not included in the original data output).\n",
      "\n",
      "Then, we can read all of the raw data files into pandas, creating one long all_data data frame. We also merge this data frame with our subj_track data frame, so all of our data is accessable in one place."
     ]
    },
    {
     "cell_type": "code",
     "collapsed": false,
     "input": [
      "#add a header to data files\n",
      "header = ['gender', 'experimenter', 'name', 'circle_num', 'circle_name', 'circle_key', 'attempt_no', 'cum_time', 'key_pressed', 'RT', 'isCorrect']\n",
      "\n",
      "#read into pandas (names=header)\n",
      "raw_data = [pd.read_csv(path_raw+'/'+file, header=None,names=header) for file in file_list]\n",
      "\n",
      "#concatenate all raw data files together\n",
      "all_data = pd.concat(raw_data)\n",
      "\n",
      "\n",
      "#read subject tracking into pandas \n",
      "subj_track = pd.read_csv(path_track)\n",
      "\n",
      "#merge add_data and subj_track\n",
      "new_data = pd.merge(all_data, subj_track, on='name', how='inner')\n",
      "print new_data\n"
     ],
     "language": "python",
     "metadata": {},
     "outputs": [
      {
       "output_type": "stream",
       "stream": "stdout",
       "text": [
        "   gender_x experimenter_x    name  circle_num circle_name circle_key  \\\n",
        "0         F            JAS  Su Lyn           3     circle3          n   \n",
        "1         F            JAS  Su Lyn           3     circle3          n   \n",
        "2         F            JAS  Su Lyn           4     circle4          m   \n",
        "3         F            JAS  Su Lyn           2     circle2          x   \n",
        "4         F            JAS  Su Lyn           1     circle1          z   \n",
        "5         F            JAS  Su Lyn           3     circle3          n   \n",
        "6         F            JAS  Su Lyn           2     circle2          x   \n",
        "7         F            JAS  Su Lyn           1     circle1          z   \n",
        "8         F            JAS  Su Lyn           3     circle3          n   \n",
        "9         F            JAS  Su Lyn           4     circle4          m   \n",
        "10        F            JAS  Su Lyn           4     circle4          m   \n",
        "11        F            JAS  Su Lyn           2     circle2          x   \n",
        "12        F            JAS  Su Lyn           1     circle1          z   \n",
        "13        F            JAS  Su Lyn           2     circle2          x   \n",
        "14        F            JAS  Su Lyn           2     circle2          x   \n",
        "15        F            JAS  Su Lyn           1     circle1          z   \n",
        "16        F            JAS  Su Lyn           3     circle3          n   \n",
        "17        F            JAS  Su Lyn           3     circle3          n   \n",
        "18        F            JAS  Su Lyn           1     circle1          z   \n",
        "19        F            JAS  Su Lyn           4     circle4          m   \n",
        "20        F            JAS  Su Lyn           4     circle4          m   \n",
        "21        F            JAS  Su Lyn           1     circle1          z   \n",
        "22        F            JAS  Su Lyn           1     circle1          z   \n",
        "23        F            JAS  Su Lyn           2     circle2          x   \n",
        "24        F            JAS  Su Lyn           2     circle2          x   \n",
        "25        F            JAS  Su Lyn           1     circle1          z   \n",
        "26        F            JAS  Su Lyn           3     circle3          n   \n",
        "27        F            JAS  Su Lyn           3     circle3          n   \n",
        "28        F            JAS  Su Lyn           4     circle4          m   \n",
        "29        F            JAS  Su Lyn           4     circle4          m   \n",
        "30        F            JAS  Su Lyn           1     circle1          z   \n",
        "31        F            JAS  Su Lyn           3     circle3          n   \n",
        "32        F            JAS  Su Lyn           2     circle2          x   \n",
        "33        F            JAS  Su Lyn           3     circle3          n   \n",
        "34        F            JAS  Su Lyn           3     circle3          n   \n",
        "35        F            JAS  Su Lyn           2     circle2          x   \n",
        "36        F            JAS  Su Lyn           2     circle2          x   \n",
        "37        F            JAS  Su Lyn           4     circle4          m   \n",
        "38        F            JAS  Su Lyn           4     circle4          m   \n",
        "39        F            JAS  Su Lyn           2     circle2          x   \n",
        "40        F            JAS  Su Lyn           1     circle1          z   \n",
        "41        F            JAS  Su Lyn           4     circle4          m   \n",
        "42        F            JAS  Su Lyn           2     circle2          x   \n",
        "43        F            JAS  Su Lyn           2     circle2          x   \n",
        "44        F            JAS  Su Lyn           4     circle4          m   \n",
        "45        F            JAS  Su Lyn           3     circle3          n   \n",
        "46        F            JAS  Su Lyn           4     circle4          m   \n",
        "47        F            JAS  Su Lyn           4     circle4          m   \n",
        "48        F            JAS  Su Lyn           3     circle3          n   \n",
        "49        F            JAS  Su Lyn           3     circle3          n   \n",
        "50        F            JAS  Su Lyn           1     circle1          z   \n",
        "51        F            JAS  Su Lyn           1     circle1          z   \n",
        "52        F            JAS  Su Lyn           2     circle2          x   \n",
        "53        F            JAS  Su Lyn           3     circle3          n   \n",
        "54        F            JAS  Su Lyn           3     circle3          n   \n",
        "55        F            JAS  Su Lyn           2     circle2          x   \n",
        "56        F            JAS  Su Lyn           4     circle4          m   \n",
        "57        F            JAS  Su Lyn           1     circle1          z   \n",
        "58        F            JAS  Su Lyn           1     circle1          z   \n",
        "59        F            JAS  Su Lyn           1     circle1          z   \n",
        "        ...            ...     ...         ...         ...        ...   \n",
        "\n",
        "    attempt_no    cum_time key_pressed        RT  isCorrect   version  \\\n",
        "0            1   77.307010           n  0.341288          1  v-0011.0   \n",
        "1            1   77.791252           n  0.289077          1  v-0011.0   \n",
        "2            1   78.224948           m  0.287026          1  v-0011.0   \n",
        "3            1   78.659135           x  0.396822          1  v-0011.0   \n",
        "4            1   79.193050           z  0.294226          1  v-0011.0   \n",
        "5            1   79.627228           n  0.276201          1  v-0011.0   \n",
        "6            1   80.044700           x  0.274256          1  v-0011.0   \n",
        "7            1   80.461711           z  0.305206          1  v-0011.0   \n",
        "8            1   80.912635           n  0.317753          1  v-0011.0   \n",
        "9            1   81.379715           m  0.234677          1  v-0011.0   \n",
        "10           1   81.763790           m  0.378178          1  v-0011.0   \n",
        "11           1   82.281004           x  0.292831          1  v-0011.0   \n",
        "12           1   82.715174           z  0.291097          1  v-0011.0   \n",
        "13           1   83.149044           x  0.288400          1  v-0011.0   \n",
        "14           1   83.583033           x  0.318426          1  v-0011.0   \n",
        "15           1   84.050667           z  0.314117          1  v-0011.0   \n",
        "16           1   84.517720           x  0.247260          0  v-0011.0   \n",
        "17           2   84.517720           n  0.535125          1  v-0011.0   \n",
        "18           1   85.201907           z  0.282521          1  v-0011.0   \n",
        "19           1   85.636099           n  0.248492          0  v-0011.0   \n",
        "20           2   85.636099           m  0.360168          1  v-0011.0   \n",
        "21           1   86.136746           z  0.403226          1  v-0011.0   \n",
        "22           1   86.687694           z  0.332262          1  v-0011.0   \n",
        "23           1   87.171482           x  0.375920          1  v-0011.0   \n",
        "24           1   87.689148           x  0.274319          1  v-0011.0   \n",
        "25           1   88.106439           z  0.352525          1  v-0011.0   \n",
        "26           1   88.607141           n  0.347789          1  v-0011.0   \n",
        "27           1   89.107900           n  0.310409          1  v-0011.0   \n",
        "28           1   89.558536           m  0.291840          1  v-0011.0   \n",
        "29           1   89.992711           m  0.289215          1  v-0011.0   \n",
        "30           1   90.426379           z  0.335462          1  v-0011.0   \n",
        "31           1   90.910700           n  0.346718          1  v-0011.0   \n",
        "32           1   91.411186           x  0.294138          1  v-0011.0   \n",
        "33           1   91.845402           n  0.275585          1  v-0011.0   \n",
        "34           1   92.262465           n  0.338350          1  v-0011.0   \n",
        "35           1   92.746691           z  0.302260          0  v-0011.0   \n",
        "36           2   92.746691           x  0.429606          1  v-0011.0   \n",
        "37           1   93.313971           x  0.038371          0  v-0011.0   \n",
        "38           2   93.313971           m  0.342466          1  v-0011.0   \n",
        "39           1   93.798245           x  0.273972          1  v-0011.0   \n",
        "40           1   94.215261           z  0.288546          1  v-0011.0   \n",
        "41           1   94.649381           m  0.334414          1  v-0011.0   \n",
        "42           1   95.133388           n  0.266039          0  v-0011.0   \n",
        "43           2   95.133388           x  0.585914          1  v-0011.0   \n",
        "44           1   95.867993           m  0.298837          1  v-0011.0   \n",
        "45           1   96.318347           n  0.472481          1  v-0011.0   \n",
        "46           1   96.936247           m  0.350196          1  v-0011.0   \n",
        "47           1   97.436759           m  0.329506          1  v-0011.0   \n",
        "48           1   97.904375           x  0.341354          0  v-0011.0   \n",
        "49           2   97.904375           n  0.421442          1  v-0011.0   \n",
        "50           1   98.471645           z  0.382153          1  v-0011.0   \n",
        "51           1   99.005977           z  0.375313          1  v-0011.0   \n",
        "52           1   99.523112           x  0.354261          1  v-0011.0   \n",
        "53           1  100.024201           n  0.268675          1  v-0011.0   \n",
        "54           1  100.441181           n  0.363660          1  v-0011.0   \n",
        "55           1  100.942172           x  0.374341          1  v-0011.0   \n",
        "56           1  101.459364           m  0.385232          1  v-0011.0   \n",
        "57           1  101.993767           x  0.314157          0  v-0011.0   \n",
        "58           2  101.993767           z  0.617964          1  v-0011.0   \n",
        "59           1  102.761442           z  0.346155          1  v-0011.0   \n",
        "           ...         ...         ...       ...        ...       ...   \n",
        "\n",
        "                experiment  cond-1  cond-2  language  test age-group  sid  \\\n",
        "0    0011-aSRT-keyboard-10     NaN     NaN       NaN   NaN     adult  S01   \n",
        "1    0011-aSRT-keyboard-10     NaN     NaN       NaN   NaN     adult  S01   \n",
        "2    0011-aSRT-keyboard-10     NaN     NaN       NaN   NaN     adult  S01   \n",
        "3    0011-aSRT-keyboard-10     NaN     NaN       NaN   NaN     adult  S01   \n",
        "4    0011-aSRT-keyboard-10     NaN     NaN       NaN   NaN     adult  S01   \n",
        "5    0011-aSRT-keyboard-10     NaN     NaN       NaN   NaN     adult  S01   \n",
        "6    0011-aSRT-keyboard-10     NaN     NaN       NaN   NaN     adult  S01   \n",
        "7    0011-aSRT-keyboard-10     NaN     NaN       NaN   NaN     adult  S01   \n",
        "8    0011-aSRT-keyboard-10     NaN     NaN       NaN   NaN     adult  S01   \n",
        "9    0011-aSRT-keyboard-10     NaN     NaN       NaN   NaN     adult  S01   \n",
        "10   0011-aSRT-keyboard-10     NaN     NaN       NaN   NaN     adult  S01   \n",
        "11   0011-aSRT-keyboard-10     NaN     NaN       NaN   NaN     adult  S01   \n",
        "12   0011-aSRT-keyboard-10     NaN     NaN       NaN   NaN     adult  S01   \n",
        "13   0011-aSRT-keyboard-10     NaN     NaN       NaN   NaN     adult  S01   \n",
        "14   0011-aSRT-keyboard-10     NaN     NaN       NaN   NaN     adult  S01   \n",
        "15   0011-aSRT-keyboard-10     NaN     NaN       NaN   NaN     adult  S01   \n",
        "16   0011-aSRT-keyboard-10     NaN     NaN       NaN   NaN     adult  S01   \n",
        "17   0011-aSRT-keyboard-10     NaN     NaN       NaN   NaN     adult  S01   \n",
        "18   0011-aSRT-keyboard-10     NaN     NaN       NaN   NaN     adult  S01   \n",
        "19   0011-aSRT-keyboard-10     NaN     NaN       NaN   NaN     adult  S01   \n",
        "20   0011-aSRT-keyboard-10     NaN     NaN       NaN   NaN     adult  S01   \n",
        "21   0011-aSRT-keyboard-10     NaN     NaN       NaN   NaN     adult  S01   \n",
        "22   0011-aSRT-keyboard-10     NaN     NaN       NaN   NaN     adult  S01   \n",
        "23   0011-aSRT-keyboard-10     NaN     NaN       NaN   NaN     adult  S01   \n",
        "24   0011-aSRT-keyboard-10     NaN     NaN       NaN   NaN     adult  S01   \n",
        "25   0011-aSRT-keyboard-10     NaN     NaN       NaN   NaN     adult  S01   \n",
        "26   0011-aSRT-keyboard-10     NaN     NaN       NaN   NaN     adult  S01   \n",
        "27   0011-aSRT-keyboard-10     NaN     NaN       NaN   NaN     adult  S01   \n",
        "28   0011-aSRT-keyboard-10     NaN     NaN       NaN   NaN     adult  S01   \n",
        "29   0011-aSRT-keyboard-10     NaN     NaN       NaN   NaN     adult  S01   \n",
        "30   0011-aSRT-keyboard-10     NaN     NaN       NaN   NaN     adult  S01   \n",
        "31   0011-aSRT-keyboard-10     NaN     NaN       NaN   NaN     adult  S01   \n",
        "32   0011-aSRT-keyboard-10     NaN     NaN       NaN   NaN     adult  S01   \n",
        "33   0011-aSRT-keyboard-10     NaN     NaN       NaN   NaN     adult  S01   \n",
        "34   0011-aSRT-keyboard-10     NaN     NaN       NaN   NaN     adult  S01   \n",
        "35   0011-aSRT-keyboard-10     NaN     NaN       NaN   NaN     adult  S01   \n",
        "36   0011-aSRT-keyboard-10     NaN     NaN       NaN   NaN     adult  S01   \n",
        "37   0011-aSRT-keyboard-10     NaN     NaN       NaN   NaN     adult  S01   \n",
        "38   0011-aSRT-keyboard-10     NaN     NaN       NaN   NaN     adult  S01   \n",
        "39   0011-aSRT-keyboard-10     NaN     NaN       NaN   NaN     adult  S01   \n",
        "40   0011-aSRT-keyboard-10     NaN     NaN       NaN   NaN     adult  S01   \n",
        "41   0011-aSRT-keyboard-10     NaN     NaN       NaN   NaN     adult  S01   \n",
        "42   0011-aSRT-keyboard-10     NaN     NaN       NaN   NaN     adult  S01   \n",
        "43   0011-aSRT-keyboard-10     NaN     NaN       NaN   NaN     adult  S01   \n",
        "44   0011-aSRT-keyboard-10     NaN     NaN       NaN   NaN     adult  S01   \n",
        "45   0011-aSRT-keyboard-10     NaN     NaN       NaN   NaN     adult  S01   \n",
        "46   0011-aSRT-keyboard-10     NaN     NaN       NaN   NaN     adult  S01   \n",
        "47   0011-aSRT-keyboard-10     NaN     NaN       NaN   NaN     adult  S01   \n",
        "48   0011-aSRT-keyboard-10     NaN     NaN       NaN   NaN     adult  S01   \n",
        "49   0011-aSRT-keyboard-10     NaN     NaN       NaN   NaN     adult  S01   \n",
        "50   0011-aSRT-keyboard-10     NaN     NaN       NaN   NaN     adult  S01   \n",
        "51   0011-aSRT-keyboard-10     NaN     NaN       NaN   NaN     adult  S01   \n",
        "52   0011-aSRT-keyboard-10     NaN     NaN       NaN   NaN     adult  S01   \n",
        "53   0011-aSRT-keyboard-10     NaN     NaN       NaN   NaN     adult  S01   \n",
        "54   0011-aSRT-keyboard-10     NaN     NaN       NaN   NaN     adult  S01   \n",
        "55   0011-aSRT-keyboard-10     NaN     NaN       NaN   NaN     adult  S01   \n",
        "56   0011-aSRT-keyboard-10     NaN     NaN       NaN   NaN     adult  S01   \n",
        "57   0011-aSRT-keyboard-10     NaN     NaN       NaN   NaN     adult  S01   \n",
        "58   0011-aSRT-keyboard-10     NaN     NaN       NaN   NaN     adult  S01   \n",
        "59   0011-aSRT-keyboard-10     NaN     NaN       NaN   NaN     adult  S01   \n",
        "                       ...     ...     ...       ...   ...       ...  ...   \n",
        "\n",
        "   gender_y      \n",
        "0         F ...  \n",
        "1         F ...  \n",
        "2         F ...  \n",
        "3         F ...  \n",
        "4         F ...  \n",
        "5         F ...  \n",
        "6         F ...  \n",
        "7         F ...  \n",
        "8         F ...  \n",
        "9         F ...  \n",
        "10        F ...  \n",
        "11        F ...  \n",
        "12        F ...  \n",
        "13        F ...  \n",
        "14        F ...  \n",
        "15        F ...  \n",
        "16        F ...  \n",
        "17        F ...  \n",
        "18        F ...  \n",
        "19        F ...  \n",
        "20        F ...  \n",
        "21        F ...  \n",
        "22        F ...  \n",
        "23        F ...  \n",
        "24        F ...  \n",
        "25        F ...  \n",
        "26        F ...  \n",
        "27        F ...  \n",
        "28        F ...  \n",
        "29        F ...  \n",
        "30        F ...  \n",
        "31        F ...  \n",
        "32        F ...  \n",
        "33        F ...  \n",
        "34        F ...  \n",
        "35        F ...  \n",
        "36        F ...  \n",
        "37        F ...  \n",
        "38        F ...  \n",
        "39        F ...  \n",
        "40        F ...  \n",
        "41        F ...  \n",
        "42        F ...  \n",
        "43        F ...  \n",
        "44        F ...  \n",
        "45        F ...  \n",
        "46        F ...  \n",
        "47        F ...  \n",
        "48        F ...  \n",
        "49        F ...  \n",
        "50        F ...  \n",
        "51        F ...  \n",
        "52        F ...  \n",
        "53        F ...  \n",
        "54        F ...  \n",
        "55        F ...  \n",
        "56        F ...  \n",
        "57        F ...  \n",
        "58        F ...  \n",
        "59        F ...  \n",
        "        ...      \n",
        "\n",
        "[8040 rows x 28 columns]\n"
       ]
      }
     ],
     "prompt_number": 23
    },
    {
     "cell_type": "markdown",
     "metadata": {},
     "source": [
      "This leaves us with a bunch of columns that aren't really relevant for the data analysis we are interested in (but we preserve in our raw data in case we ever need them). Let's remove these columns to simplify our data frame."
     ]
    },
    {
     "cell_type": "code",
     "collapsed": false,
     "input": [
      "#include only relevant columns, and leave out subjects marked for exclusion.\n",
      "new_data = new_data[['sid', 'circle_key', 'key_pressed', 'RT', 'KDS-exclude', 'attempt_no', 'isCorrect']]\n",
      "final_data = new_data[new_data['KDS-exclude'] == False]"
     ],
     "language": "python",
     "metadata": {},
     "outputs": [],
     "prompt_number": 24
    },
    {
     "cell_type": "markdown",
     "metadata": {},
     "source": [
      "### Add some required variables\n",
      "\n",
      "Next we need to ID trials as either a pattern trial or a random trial. To simplify things, we can first remove data from our all-data data frame where attempt-no is equal to 2. This is because it means that our subject chose the wrong button on the first attempt, which winds up being excluded data, so we don't need to know their reaction times on their second attempt.\n",
      "\n",
      "We do, however, want to know whether subjects were correct or not on the first trial. This information is already saved as a boolean value in the isCorrect column. Therefore, we are free to remove any trials where attempt-no is equal to 2."
     ]
    },
    {
     "cell_type": "code",
     "collapsed": false,
     "input": [
      "# get a data frame of first attempts only\n",
      "first_attempts = final_data[final_data.attempt_no == 1]"
     ],
     "language": "python",
     "metadata": {},
     "outputs": [],
     "prompt_number": 25
    },
    {
     "cell_type": "markdown",
     "metadata": {},
     "source": [
      "After this, we need to add a trial number for every subject.\n"
     ]
    },
    {
     "cell_type": "code",
     "collapsed": false,
     "input": [
      "def add_trial_num(df):\n",
      "    '''adds a trial number'''\n",
      "    df['trial'] = np.arange(len(df['attempt_no'])) + 1\n",
      "    return df\n",
      "\n",
      "trial_data = first_attempts.groupby('sid').apply(add_trial_num)\n",
      "trial_data.groupby('sid').count()"
     ],
     "language": "python",
     "metadata": {},
     "outputs": [
      {
       "html": [
        "<div style=\"max-height:1000px;max-width:1500px;overflow:auto;\">\n",
        "<table border=\"1\" class=\"dataframe\">\n",
        "  <thead>\n",
        "    <tr style=\"text-align: right;\">\n",
        "      <th></th>\n",
        "      <th>sid</th>\n",
        "      <th>circle_key</th>\n",
        "      <th>key_pressed</th>\n",
        "      <th>RT</th>\n",
        "      <th>KDS-exclude</th>\n",
        "      <th>attempt_no</th>\n",
        "      <th>isCorrect</th>\n",
        "      <th>trial</th>\n",
        "    </tr>\n",
        "    <tr>\n",
        "      <th>sid</th>\n",
        "      <th></th>\n",
        "      <th></th>\n",
        "      <th></th>\n",
        "      <th></th>\n",
        "      <th></th>\n",
        "      <th></th>\n",
        "      <th></th>\n",
        "      <th></th>\n",
        "    </tr>\n",
        "  </thead>\n",
        "  <tbody>\n",
        "    <tr>\n",
        "      <th>S01</th>\n",
        "      <td> 800</td>\n",
        "      <td> 800</td>\n",
        "      <td> 800</td>\n",
        "      <td> 800</td>\n",
        "      <td> 800</td>\n",
        "      <td> 800</td>\n",
        "      <td> 800</td>\n",
        "      <td> 800</td>\n",
        "    </tr>\n",
        "    <tr>\n",
        "      <th>S02</th>\n",
        "      <td> 800</td>\n",
        "      <td> 800</td>\n",
        "      <td> 800</td>\n",
        "      <td> 800</td>\n",
        "      <td> 800</td>\n",
        "      <td> 800</td>\n",
        "      <td> 800</td>\n",
        "      <td> 800</td>\n",
        "    </tr>\n",
        "    <tr>\n",
        "      <th>S03</th>\n",
        "      <td> 800</td>\n",
        "      <td> 800</td>\n",
        "      <td> 800</td>\n",
        "      <td> 800</td>\n",
        "      <td> 800</td>\n",
        "      <td> 800</td>\n",
        "      <td> 800</td>\n",
        "      <td> 800</td>\n",
        "    </tr>\n",
        "    <tr>\n",
        "      <th>S04</th>\n",
        "      <td> 800</td>\n",
        "      <td> 800</td>\n",
        "      <td> 800</td>\n",
        "      <td> 800</td>\n",
        "      <td> 800</td>\n",
        "      <td> 800</td>\n",
        "      <td> 800</td>\n",
        "      <td> 800</td>\n",
        "    </tr>\n",
        "    <tr>\n",
        "      <th>S05</th>\n",
        "      <td> 800</td>\n",
        "      <td> 800</td>\n",
        "      <td> 800</td>\n",
        "      <td> 800</td>\n",
        "      <td> 800</td>\n",
        "      <td> 800</td>\n",
        "      <td> 800</td>\n",
        "      <td> 800</td>\n",
        "    </tr>\n",
        "    <tr>\n",
        "      <th>S06</th>\n",
        "      <td> 800</td>\n",
        "      <td> 800</td>\n",
        "      <td> 800</td>\n",
        "      <td> 800</td>\n",
        "      <td> 800</td>\n",
        "      <td> 800</td>\n",
        "      <td> 800</td>\n",
        "      <td> 800</td>\n",
        "    </tr>\n",
        "    <tr>\n",
        "      <th>S07</th>\n",
        "      <td> 800</td>\n",
        "      <td> 800</td>\n",
        "      <td> 800</td>\n",
        "      <td> 800</td>\n",
        "      <td> 800</td>\n",
        "      <td> 800</td>\n",
        "      <td> 800</td>\n",
        "      <td> 800</td>\n",
        "    </tr>\n",
        "    <tr>\n",
        "      <th>S08</th>\n",
        "      <td> 800</td>\n",
        "      <td> 800</td>\n",
        "      <td> 800</td>\n",
        "      <td> 800</td>\n",
        "      <td> 800</td>\n",
        "      <td> 800</td>\n",
        "      <td> 800</td>\n",
        "      <td> 800</td>\n",
        "    </tr>\n",
        "    <tr>\n",
        "      <th>S09</th>\n",
        "      <td> 800</td>\n",
        "      <td> 800</td>\n",
        "      <td> 800</td>\n",
        "      <td> 800</td>\n",
        "      <td> 800</td>\n",
        "      <td> 800</td>\n",
        "      <td> 800</td>\n",
        "      <td> 800</td>\n",
        "    </tr>\n",
        "  </tbody>\n",
        "</table>\n",
        "<p>9 rows \u00d7 8 columns</p>\n",
        "</div>"
       ],
       "metadata": {},
       "output_type": "pyout",
       "prompt_number": 59,
       "text": [
        "     sid  circle_key  key_pressed   RT  KDS-exclude  attempt_no  isCorrect  \\\n",
        "sid                                                                          \n",
        "S01  800         800          800  800          800         800        800   \n",
        "S02  800         800          800  800          800         800        800   \n",
        "S03  800         800          800  800          800         800        800   \n",
        "S04  800         800          800  800          800         800        800   \n",
        "S05  800         800          800  800          800         800        800   \n",
        "S06  800         800          800  800          800         800        800   \n",
        "S07  800         800          800  800          800         800        800   \n",
        "S08  800         800          800  800          800         800        800   \n",
        "S09  800         800          800  800          800         800        800   \n",
        "\n",
        "     trial  \n",
        "sid         \n",
        "S01    800  \n",
        "S02    800  \n",
        "S03    800  \n",
        "S04    800  \n",
        "S05    800  \n",
        "S06    800  \n",
        "S07    800  \n",
        "S08    800  \n",
        "S09    800  \n",
        "\n",
        "[9 rows x 8 columns]"
       ]
      }
     ],
     "prompt_number": 59
    },
    {
     "cell_type": "markdown",
     "metadata": {},
     "source": [
      "And a new block for every 100 trials.\n"
     ]
    },
    {
     "cell_type": "code",
     "collapsed": false,
     "input": [
      "def add_block_num(df):\n",
      "    blocks = []\n",
      "    for block in arange(1, 11):\n",
      "        blocks.extend(repeat(block, 80))\n",
      "    df['block'] = blocks\n",
      "    return df\n",
      "\n",
      "trial_data = trial_data.groupby('sid').apply(add_block_num)"
     ],
     "language": "python",
     "metadata": {},
     "outputs": [],
     "prompt_number": 60
    },
    {
     "cell_type": "markdown",
     "metadata": {},
     "source": [
      "Then we need to add whether this was a pattern or random trial\n"
     ]
    },
    {
     "cell_type": "code",
     "collapsed": false,
     "input": [
      "#add column for type (even trials are always random)\n",
      "trial_data['type'] = trial_data['trial'].apply(lambda x: 'random' if x%2==0 else 'pattern')"
     ],
     "language": "python",
     "metadata": {},
     "outputs": [],
     "prompt_number": 61
    },
    {
     "cell_type": "markdown",
     "metadata": {},
     "source": [
      "and add the precise pattern this particular subject had\n"
     ]
    },
    {
     "cell_type": "code",
     "collapsed": false,
     "input": [
      "#add column for specific pattern\n",
      "trial_data['pattern'] = trial_data.sid.map(trial_data.groupby('sid')['circle_key'].apply(lambda x: list(x[:7:2])))"
     ],
     "language": "python",
     "metadata": {},
     "outputs": [],
     "prompt_number": 62
    },
    {
     "cell_type": "markdown",
     "metadata": {},
     "source": [
      "After this, we will list the possible values for the triplets (e.g. triplet 1x4, or 2x3, where x is any random number. Because we don't care what the value of x is, we will only attend to the first and last element of the triplet."
     ]
    },
    {
     "cell_type": "code",
     "collapsed": false,
     "input": [
      "#list possible triplet combinations\n",
      "def getCombos(pattern):\n",
      "    pattern = pattern + [pattern[0]]\n",
      "    return ''.join(pattern)\n",
      "\n",
      "trial_data['combos'] = trial_data.pattern.map(getCombos)"
     ],
     "language": "python",
     "metadata": {},
     "outputs": [],
     "prompt_number": 63
    },
    {
     "cell_type": "code",
     "collapsed": false,
     "input": [
      "#get this trial and 2 trials ago\n",
      "trial_data['shifted'] = pd.concat([trial_data.groupby('sid')['key_pressed'].shift(2) + trial_data.groupby('sid')['key_pressed'].shift(0)])"
     ],
     "language": "python",
     "metadata": {},
     "outputs": [],
     "prompt_number": 64
    },
    {
     "cell_type": "markdown",
     "metadata": {},
     "source": [
      "Find out if this is a high-frequency of low-freqnecy triplet (part of pattern or no)\n"
     ]
    },
    {
     "cell_type": "code",
     "collapsed": false,
     "input": [
      "#trial_data['combos'].str.contains(str(trial_data['shifted'].values))\n",
      "def func(df):\n",
      "    return str(df.shifted) in df.combos\n",
      "\n",
      "trial_data['high-freq'] = trial_data.apply(func, axis=1)"
     ],
     "language": "python",
     "metadata": {},
     "outputs": [],
     "prompt_number": 65
    },
    {
     "cell_type": "markdown",
     "metadata": {},
     "source": [
      "## Figure 1: Histogram of RT (overall)\n",
      "\n",
      "Now that we have processed our data to include all of the relevant variables we need (and exclude ones we don't). Let's look at the distributions of reaction times as a histogram."
     ]
    },
    {
     "cell_type": "code",
     "collapsed": false,
     "input": [
      "#plot two histograms superimposed (pattern and random RTs)\n",
      "block1 = trial_data[trial_data['block'] == 1]\n",
      "block10 = trial_data[trial_data ['block'] == 10]\n",
      "histo = block1[block1['isCorrect']==1]['RT'].hist(bins = 50, color=\"#6495ED\", alpha=.5)\n",
      "histo = block10[block10['isCorrect']==1]['RT'].hist(bins = 50, color=\"#aaaaaa\", alpha=.5)\n",
      "\n",
      "histo.set(xlim = (0, 1))"
     ],
     "language": "python",
     "metadata": {},
     "outputs": [
      {
       "metadata": {},
       "output_type": "pyout",
       "prompt_number": 68,
       "text": [
        "[(0, 1)]"
       ]
      },
      {
       "metadata": {},
       "output_type": "display_data",
       "png": "[encoded data removed]",
       "text": [
        "<matplotlib.figure.Figure at 0xc902c70>"
       ]
      }
     ],
     "prompt_number": 68
    },
    {
     "cell_type": "markdown",
     "metadata": {},
     "source": [
      "Here what we see are two plots - the blue plot shows us the distribution of reaction times during block 1 (the first block), and the dark gray plot shows us the distribution of reaction times during block 7 (the last block). I like to look at these distributions first just to see if the results I'm getting make sense. If subjects are learning the pattern over time, we expect them to have faster reaction times over time. These two distributions illustrate the opposite of that. In fact, our two distributions look almost identical over time.\n",
      "\n",
      "In this case, we could be observing difference imposed by our different conditions (pattern and random).  Let's look at proportion correct and mean of median reaction time changes over time for our two conditions seperately.\n",
      "\n",
      "## Figure 2: Accuracy (proportion correct)\n"
     ]
    },
    {
     "cell_type": "code",
     "collapsed": false,
     "input": [
      "#percent correct\n",
      "pct_corr = trial_data.groupby(['sid','block', 'type'], as_index=False)['isCorrect'].mean()\n",
      "pct_corr_plot = sns.pointplot(\"block\", \"isCorrect\", \"type\", data = pct_corr, estimator=np.mean)\n"
     ],
     "language": "python",
     "metadata": {},
     "outputs": [
      {
       "ename": "TypeError",
       "evalue": "set_title() got an unexpected keyword argument 'prop'",
       "output_type": "pyerr",
       "traceback": [
        "\u001b[0;31m---------------------------------------------------------------------------\u001b[0m\n\u001b[0;31mTypeError\u001b[0m                                 Traceback (most recent call last)",
        "\u001b[0;32m<ipython-input-69-d263a7d49e85>\u001b[0m in \u001b[0;36m<module>\u001b[0;34m()\u001b[0m\n\u001b[1;32m      1\u001b[0m \u001b[0;31m#percent correct\u001b[0m\u001b[0;34m\u001b[0m\u001b[0;34m\u001b[0m\u001b[0m\n\u001b[1;32m      2\u001b[0m \u001b[0mpct_corr\u001b[0m \u001b[0;34m=\u001b[0m \u001b[0mtrial_data\u001b[0m\u001b[0;34m.\u001b[0m\u001b[0mgroupby\u001b[0m\u001b[0;34m(\u001b[0m\u001b[0;34m[\u001b[0m\u001b[0;34m'sid'\u001b[0m\u001b[0;34m,\u001b[0m\u001b[0;34m'block'\u001b[0m\u001b[0;34m,\u001b[0m \u001b[0;34m'type'\u001b[0m\u001b[0;34m]\u001b[0m\u001b[0;34m,\u001b[0m \u001b[0mas_index\u001b[0m\u001b[0;34m=\u001b[0m\u001b[0mFalse\u001b[0m\u001b[0;34m)\u001b[0m\u001b[0;34m[\u001b[0m\u001b[0;34m'isCorrect'\u001b[0m\u001b[0;34m]\u001b[0m\u001b[0;34m.\u001b[0m\u001b[0mmean\u001b[0m\u001b[0;34m(\u001b[0m\u001b[0;34m)\u001b[0m\u001b[0;34m\u001b[0m\u001b[0m\n\u001b[0;32m----> 3\u001b[0;31m \u001b[0mpct_corr_plot\u001b[0m \u001b[0;34m=\u001b[0m \u001b[0msns\u001b[0m\u001b[0;34m.\u001b[0m\u001b[0mpointplot\u001b[0m\u001b[0;34m(\u001b[0m\u001b[0;34m\"block\"\u001b[0m\u001b[0;34m,\u001b[0m \u001b[0;34m\"isCorrect\"\u001b[0m\u001b[0;34m,\u001b[0m \u001b[0;34m\"type\"\u001b[0m\u001b[0;34m,\u001b[0m \u001b[0mdata\u001b[0m \u001b[0;34m=\u001b[0m \u001b[0mpct_corr\u001b[0m\u001b[0;34m,\u001b[0m \u001b[0mestimator\u001b[0m\u001b[0;34m=\u001b[0m\u001b[0mnp\u001b[0m\u001b[0;34m.\u001b[0m\u001b[0mmean\u001b[0m\u001b[0;34m)\u001b[0m\u001b[0;34m\u001b[0m\u001b[0m\n\u001b[0m",
        "\u001b[0;32m/Library/Frameworks/Python.framework/Versions/7.2/lib/python2.7/site-packages/seaborn-0.3.dev-py2.7.egg/seaborn/linearmodels.pyc\u001b[0m in \u001b[0;36mpointplot\u001b[0;34m(x, y, hue, data, estimator, hline, ci, n_boot, units, x_order, hue_order, dodge, dropna, color, palette, join, label, ax)\u001b[0m\n\u001b[1;32m    960\u001b[0m     \u001b[0;32mif\u001b[0m \u001b[0max\u001b[0m \u001b[0;32mis\u001b[0m \u001b[0mNone\u001b[0m\u001b[0;34m:\u001b[0m\u001b[0;34m\u001b[0m\u001b[0m\n\u001b[1;32m    961\u001b[0m         \u001b[0max\u001b[0m \u001b[0;34m=\u001b[0m \u001b[0mplt\u001b[0m\u001b[0;34m.\u001b[0m\u001b[0mgca\u001b[0m\u001b[0;34m(\u001b[0m\u001b[0;34m)\u001b[0m\u001b[0;34m\u001b[0m\u001b[0m\n\u001b[0;32m--> 962\u001b[0;31m     \u001b[0mplotter\u001b[0m\u001b[0;34m.\u001b[0m\u001b[0mplot\u001b[0m\u001b[0;34m(\u001b[0m\u001b[0max\u001b[0m\u001b[0;34m)\u001b[0m\u001b[0;34m\u001b[0m\u001b[0m\n\u001b[0m\u001b[1;32m    963\u001b[0m     \u001b[0;32mreturn\u001b[0m \u001b[0max\u001b[0m\u001b[0;34m\u001b[0m\u001b[0m\n\u001b[1;32m    964\u001b[0m \u001b[0;34m\u001b[0m\u001b[0m\n",
        "\u001b[0;32m/Library/Frameworks/Python.framework/Versions/7.2/lib/python2.7/site-packages/seaborn-0.3.dev-py2.7.egg/seaborn/linearmodels.pyc\u001b[0m in \u001b[0;36mplot\u001b[0;34m(self, ax)\u001b[0m\n\u001b[1;32m    257\u001b[0m             \u001b[0;32mif\u001b[0m \u001b[0mhasattr\u001b[0m\u001b[0;34m(\u001b[0m\u001b[0mself\u001b[0m\u001b[0;34m.\u001b[0m\u001b[0mhue\u001b[0m\u001b[0;34m,\u001b[0m \u001b[0;34m\"name\"\u001b[0m\u001b[0;34m)\u001b[0m\u001b[0;34m:\u001b[0m\u001b[0;34m\u001b[0m\u001b[0m\n\u001b[1;32m    258\u001b[0m                 leg.set_title(self.hue.name,\n\u001b[0;32m--> 259\u001b[0;31m                               prop={\"size\": mpl.rcParams[\"axes.labelsize\"]})\n\u001b[0m\u001b[1;32m    260\u001b[0m         \u001b[0max\u001b[0m\u001b[0;34m.\u001b[0m\u001b[0mxaxis\u001b[0m\u001b[0;34m.\u001b[0m\u001b[0mgrid\u001b[0m\u001b[0;34m(\u001b[0m\u001b[0mFalse\u001b[0m\u001b[0;34m)\u001b[0m\u001b[0;34m\u001b[0m\u001b[0m\n\u001b[1;32m    261\u001b[0m         \u001b[0max\u001b[0m\u001b[0;34m.\u001b[0m\u001b[0mset_xticks\u001b[0m\u001b[0;34m(\u001b[0m\u001b[0mself\u001b[0m\u001b[0;34m.\u001b[0m\u001b[0mpositions\u001b[0m\u001b[0;34m)\u001b[0m\u001b[0;34m\u001b[0m\u001b[0m\n",
        "\u001b[0;31mTypeError\u001b[0m: set_title() got an unexpected keyword argument 'prop'"
       ]
      },
      {
       "metadata": {},
       "output_type": "display_data",
       "png": "[encoded data removed]",
       "text": [
        "<matplotlib.figure.Figure at 0xa9b92d0>"
       ]
      }
     ],
     "prompt_number": 69
    },
    {
     "cell_type": "markdown",
     "metadata": {},
     "source": [
      "It seems like the proportion correct are really similar for both.\n",
      "\n",
      "## Figure 3: Mean of median RT"
     ]
    },
    {
     "cell_type": "code",
     "collapsed": false,
     "input": [
      "#take only correct trials\n",
      "correct_only = trial_data[trial_data['isCorrect']==1]\n",
      "\n",
      "#get median reaction time for each subject and each block\n",
      "median_agg = correct_only.groupby(['sid','block', 'type'], as_index=False)['RT'].median()\n",
      "\n",
      "#median_agg.groupby(['block']).agg([mean, std])\n",
      "sns.pointplot('block', 'RT', 'type', data=median_agg, estimator=np.mean, ci=95)\n",
      "\n"
     ],
     "language": "python",
     "metadata": {},
     "outputs": [
      {
       "ename": "TypeError",
       "evalue": "set_title() got an unexpected keyword argument 'prop'",
       "output_type": "pyerr",
       "traceback": [
        "\u001b[0;31m---------------------------------------------------------------------------\u001b[0m\n\u001b[0;31mTypeError\u001b[0m                                 Traceback (most recent call last)",
        "\u001b[0;32m<ipython-input-70-c2374f0011f8>\u001b[0m in \u001b[0;36m<module>\u001b[0;34m()\u001b[0m\n\u001b[1;32m      6\u001b[0m \u001b[0;34m\u001b[0m\u001b[0m\n\u001b[1;32m      7\u001b[0m \u001b[0;31m#median_agg.groupby(['block']).agg([mean, std])\u001b[0m\u001b[0;34m\u001b[0m\u001b[0;34m\u001b[0m\u001b[0m\n\u001b[0;32m----> 8\u001b[0;31m \u001b[0msns\u001b[0m\u001b[0;34m.\u001b[0m\u001b[0mpointplot\u001b[0m\u001b[0;34m(\u001b[0m\u001b[0;34m'block'\u001b[0m\u001b[0;34m,\u001b[0m \u001b[0;34m'RT'\u001b[0m\u001b[0;34m,\u001b[0m \u001b[0;34m'type'\u001b[0m\u001b[0;34m,\u001b[0m \u001b[0mdata\u001b[0m\u001b[0;34m=\u001b[0m\u001b[0mmedian_agg\u001b[0m\u001b[0;34m,\u001b[0m \u001b[0mestimator\u001b[0m\u001b[0;34m=\u001b[0m\u001b[0mnp\u001b[0m\u001b[0;34m.\u001b[0m\u001b[0mmean\u001b[0m\u001b[0;34m,\u001b[0m \u001b[0mci\u001b[0m\u001b[0;34m=\u001b[0m\u001b[0;36m95\u001b[0m\u001b[0;34m)\u001b[0m\u001b[0;34m\u001b[0m\u001b[0m\n\u001b[0m\u001b[1;32m      9\u001b[0m \u001b[0;34m\u001b[0m\u001b[0m\n",
        "\u001b[0;32m/Library/Frameworks/Python.framework/Versions/7.2/lib/python2.7/site-packages/seaborn-0.3.dev-py2.7.egg/seaborn/linearmodels.pyc\u001b[0m in \u001b[0;36mpointplot\u001b[0;34m(x, y, hue, data, estimator, hline, ci, n_boot, units, x_order, hue_order, dodge, dropna, color, palette, join, label, ax)\u001b[0m\n\u001b[1;32m    960\u001b[0m     \u001b[0;32mif\u001b[0m \u001b[0max\u001b[0m \u001b[0;32mis\u001b[0m \u001b[0mNone\u001b[0m\u001b[0;34m:\u001b[0m\u001b[0;34m\u001b[0m\u001b[0m\n\u001b[1;32m    961\u001b[0m         \u001b[0max\u001b[0m \u001b[0;34m=\u001b[0m \u001b[0mplt\u001b[0m\u001b[0;34m.\u001b[0m\u001b[0mgca\u001b[0m\u001b[0;34m(\u001b[0m\u001b[0;34m)\u001b[0m\u001b[0;34m\u001b[0m\u001b[0m\n\u001b[0;32m--> 962\u001b[0;31m     \u001b[0mplotter\u001b[0m\u001b[0;34m.\u001b[0m\u001b[0mplot\u001b[0m\u001b[0;34m(\u001b[0m\u001b[0max\u001b[0m\u001b[0;34m)\u001b[0m\u001b[0;34m\u001b[0m\u001b[0m\n\u001b[0m\u001b[1;32m    963\u001b[0m     \u001b[0;32mreturn\u001b[0m \u001b[0max\u001b[0m\u001b[0;34m\u001b[0m\u001b[0m\n\u001b[1;32m    964\u001b[0m \u001b[0;34m\u001b[0m\u001b[0m\n",
        "\u001b[0;32m/Library/Frameworks/Python.framework/Versions/7.2/lib/python2.7/site-packages/seaborn-0.3.dev-py2.7.egg/seaborn/linearmodels.pyc\u001b[0m in \u001b[0;36mplot\u001b[0;34m(self, ax)\u001b[0m\n\u001b[1;32m    257\u001b[0m             \u001b[0;32mif\u001b[0m \u001b[0mhasattr\u001b[0m\u001b[0;34m(\u001b[0m\u001b[0mself\u001b[0m\u001b[0;34m.\u001b[0m\u001b[0mhue\u001b[0m\u001b[0;34m,\u001b[0m \u001b[0;34m\"name\"\u001b[0m\u001b[0;34m)\u001b[0m\u001b[0;34m:\u001b[0m\u001b[0;34m\u001b[0m\u001b[0m\n\u001b[1;32m    258\u001b[0m                 leg.set_title(self.hue.name,\n\u001b[0;32m--> 259\u001b[0;31m                               prop={\"size\": mpl.rcParams[\"axes.labelsize\"]})\n\u001b[0m\u001b[1;32m    260\u001b[0m         \u001b[0max\u001b[0m\u001b[0;34m.\u001b[0m\u001b[0mxaxis\u001b[0m\u001b[0;34m.\u001b[0m\u001b[0mgrid\u001b[0m\u001b[0;34m(\u001b[0m\u001b[0mFalse\u001b[0m\u001b[0;34m)\u001b[0m\u001b[0;34m\u001b[0m\u001b[0m\n\u001b[1;32m    261\u001b[0m         \u001b[0max\u001b[0m\u001b[0;34m.\u001b[0m\u001b[0mset_xticks\u001b[0m\u001b[0;34m(\u001b[0m\u001b[0mself\u001b[0m\u001b[0;34m.\u001b[0m\u001b[0mpositions\u001b[0m\u001b[0;34m)\u001b[0m\u001b[0;34m\u001b[0m\u001b[0m\n",
        "\u001b[0;31mTypeError\u001b[0m: set_title() got an unexpected keyword argument 'prop'"
       ]
      },
      {
       "metadata": {},
       "output_type": "display_data",
       "png": "[encoded data removed]",
       "text": [
        "<matplotlib.figure.Figure at 0xa62a190>"
       ]
      }
     ],
     "prompt_number": 70
    },
    {
     "cell_type": "markdown",
     "metadata": {},
     "source": [
      "And, obviously people aren't learning it very well."
     ]
    }
   ],
   "metadata": {}
  }
 ]
}